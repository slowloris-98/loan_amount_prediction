{
 "cells": [
  {
   "cell_type": "code",
   "execution_count": null,
   "metadata": {
    "application/vnd.databricks.v1+cell": {
     "cellMetadata": {
      "byteLimit": 2048000,
      "rowLimit": 10000
     },
     "inputWidgets": {},
     "nuid": "5de85c79-7031-45af-a377-6d3d6f73cd80",
     "showTitle": false,
     "tableResultSettingsMap": {},
     "title": ""
    },
    "id": "6d6WoPFlgo67"
   },
   "outputs": [],
   "source": [
    "from pyspark.sql.functions import col, trim, when\n",
    "from pyspark.ml.feature import OneHotEncoder, StringIndexer, VectorAssembler\n",
    "from pyspark.ml import Pipeline\n",
    "from pyspark.ml.classification import LogisticRegression\n",
    "from pyspark.ml.evaluation import RegressionEvaluator\n",
    "from pyspark.ml.evaluation import BinaryClassificationEvaluator\n",
    "from pyspark.sql import SparkSession\n"
   ]
  },
  {
   "cell_type": "code",
   "execution_count": null,
   "metadata": {
    "colab": {
     "base_uri": "https://localhost:8080/"
    },
    "id": "TgsicoKHi1mK",
    "outputId": "4e888d4d-4119-4b83-b17b-b2a984da774d"
   },
   "outputs": [
    {
     "name": "stderr",
     "output_type": "stream",
     "text": [
      "24/12/05 12:43:10 WARN Utils: Your hostname, chun-B650-AORUS-ELITE-AX resolves to a loopback address: 127.0.0.1; using 192.168.1.227 instead (on interface enp12s0)\n",
      "24/12/05 12:43:10 WARN Utils: Set SPARK_LOCAL_IP if you need to bind to another address\n",
      "Setting default log level to \"WARN\".\n",
      "To adjust logging level use sc.setLogLevel(newLevel). For SparkR, use setLogLevel(newLevel).\n",
      "24/12/05 12:43:10 WARN NativeCodeLoader: Unable to load native-hadoop library for your platform... using builtin-java classes where applicable\n"
     ]
    }
   ],
   "source": [
    "spark = SparkSession.builder.appName(\"Regression\").config(\"spark.driver.memory\", \"8g\").config(\"spark.executor.memory\", \"16g\").getOrCreate()"
   ]
  },
  {
   "cell_type": "code",
   "execution_count": null,
   "metadata": {
    "application/vnd.databricks.v1+cell": {
     "cellMetadata": {
      "byteLimit": 2048000,
      "rowLimit": 10000
     },
     "inputWidgets": {},
     "nuid": "4c193d80-4cf5-41c6-b71a-3c19af2447ee",
     "showTitle": false,
     "tableResultSettingsMap": {},
     "title": ""
    },
    "id": "wJB_ND1Ygo68"
   },
   "outputs": [],
   "source": [
    "join_df = spark.read.csv(\n",
    "    \"/home/chun/Downloads/cs-267/project/join_df.csv\",\n",
    "    header=True,       # Set to True if the CSV has a header\n",
    "    inferSchema=True,  # Prevent automatic type inference if fields are irregular\n",
    "    multiLine=True,     # Support multi-line fields\n",
    "    quote='\"',          # Handle quoted fields properly\n",
    "    escape='\"',         # Escape quotes inside quoted fields\n",
    "    sep=\",\"             # Specify comma as the delimiter\n",
    ")"
   ]
  },
  {
   "cell_type": "code",
   "execution_count": null,
   "metadata": {
    "application/vnd.databricks.v1+cell": {
     "cellMetadata": {
      "byteLimit": 2048000,
      "rowLimit": 10000
     },
     "inputWidgets": {},
     "nuid": "7b68d340-0f44-4353-8baf-ecb47791afa6",
     "showTitle": false,
     "tableResultSettingsMap": {},
     "title": ""
    },
    "colab": {
     "base_uri": "https://localhost:8080/"
    },
    "id": "5su9nhkugo68",
    "outputId": "e620a029-6718-49e9-8b4d-0e0ee58dae0c"
   },
   "outputs": [
    {
     "name": "stdout",
     "output_type": "stream",
     "text": [
      "root\n",
      " |-- emp_title: string (nullable = true)\n",
      " |-- emp_length: string (nullable = true)\n",
      " |-- home_ownership: string (nullable = true)\n",
      " |-- annual_inc: double (nullable = true)\n",
      " |-- verification_status: string (nullable = true)\n",
      " |-- addr_state: string (nullable = true)\n",
      " |-- avg_cur_bal: integer (nullable = true)\n",
      " |-- Tot_cur_bal: integer (nullable = true)\n",
      " |-- loan_status: string (nullable = true)\n",
      " |-- loan_amount: integer (nullable = true)\n",
      " |-- state: string (nullable = true)\n",
      " |-- funded_amount: integer (nullable = true)\n",
      " |-- term: string (nullable = true)\n",
      " |-- int_rate: double (nullable = true)\n",
      " |-- installment: double (nullable = true)\n",
      " |-- grade: string (nullable = true)\n",
      " |-- pymnt_plan: boolean (nullable = true)\n",
      " |-- type: string (nullable = true)\n",
      " |-- purpose: string (nullable = true)\n",
      " |-- description: string (nullable = true)\n",
      "\n"
     ]
    }
   ],
   "source": [
    "join_df.printSchema()"
   ]
  },
  {
   "cell_type": "code",
   "execution_count": null,
   "metadata": {
    "application/vnd.databricks.v1+cell": {
     "cellMetadata": {
      "byteLimit": 2048000,
      "rowLimit": 10000
     },
     "inputWidgets": {},
     "nuid": "7b85c51d-f59e-444e-b2da-e03499e01d4d",
     "showTitle": false,
     "tableResultSettingsMap": {},
     "title": ""
    },
    "colab": {
     "base_uri": "https://localhost:8080/"
    },
    "id": "oLrZZXVDgo69",
    "outputId": "ae8bd0d6-d290-498d-c366-56da4ae93c0d"
   },
   "outputs": [
    {
     "data": {
      "text/plain": [
       "['emp_title',\n",
       " 'emp_length',\n",
       " 'home_ownership',\n",
       " 'verification_status',\n",
       " 'addr_state',\n",
       " 'loan_status',\n",
       " 'state',\n",
       " 'term',\n",
       " 'grade',\n",
       " 'type',\n",
       " 'purpose',\n",
       " 'description']"
      ]
     },
     "execution_count": 5,
     "metadata": {},
     "output_type": "execute_result"
    }
   ],
   "source": [
    "categorical_variables  = [col for col, dtype in join_df.dtypes if dtype == 'string']\n",
    "categorical_variables"
   ]
  },
  {
   "cell_type": "code",
   "execution_count": null,
   "metadata": {
    "application/vnd.databricks.v1+cell": {
     "cellMetadata": {
      "byteLimit": 2048000,
      "rowLimit": 10000
     },
     "inputWidgets": {},
     "nuid": "f8f41d3b-9db5-4863-b667-1862ed7d2442",
     "showTitle": false,
     "tableResultSettingsMap": {},
     "title": ""
    },
    "colab": {
     "base_uri": "https://localhost:8080/"
    },
    "id": "xdd3ysvggo69",
    "outputId": "1b84aeaf-9eec-4063-bc24-2b50ec1dec78"
   },
   "outputs": [
    {
     "name": "stdout",
     "output_type": "stream",
     "text": [
      "[]\n"
     ]
    }
   ],
   "source": [
    "\n",
    "from pyspark.sql import functions as F\n",
    "\n",
    "# Find columns with only one distinct value\n",
    "single_value_columns = []\n",
    "for column in join_df.columns:\n",
    "    distinct_count = join_df.select(column).distinct().count()\n",
    "    if distinct_count == 1:\n",
    "        single_value_columns.append(column)\n",
    "        i = categorical_variables.index(column)\n",
    "        del categorical_variables[i]\n",
    "\n",
    "print(single_value_columns)\n",
    "join_df = join_df.drop(*single_value_columns)\n"
   ]
  },
  {
   "cell_type": "code",
   "execution_count": null,
   "metadata": {
    "application/vnd.databricks.v1+cell": {
     "cellMetadata": {
      "byteLimit": 2048000,
      "rowLimit": 10000
     },
     "inputWidgets": {},
     "nuid": "f58cc9f9-d142-4ca7-985e-bac0e27639af",
     "showTitle": false,
     "tableResultSettingsMap": {},
     "title": ""
    },
    "id": "Ux5R6aYWgo69"
   },
   "outputs": [],
   "source": [
    "for column in categorical_variables:\n",
    "    join_df = join_df.withColumn(\n",
    "        column,\n",
    "        when(col(column).isNull(), \"N/A\").otherwise(col(column))\n",
    "    )"
   ]
  },
  {
   "cell_type": "code",
   "execution_count": null,
   "metadata": {
    "application/vnd.databricks.v1+cell": {
     "cellMetadata": {
      "byteLimit": 2048000,
      "rowLimit": 10000
     },
     "inputWidgets": {},
     "nuid": "e1f8c874-0da6-4dfd-b752-c5d707e640e9",
     "showTitle": false,
     "tableResultSettingsMap": {},
     "title": ""
    },
    "id": "xecCaw4Jgo69"
   },
   "outputs": [],
   "source": [
    "indexers = [StringIndexer(inputCol=column, outputCol=column+\"-index\", handleInvalid=\"skip\") for column in categorical_variables]\n",
    "encoder = OneHotEncoder(\n",
    "    inputCols=[indexer.getOutputCol() for indexer in indexers],\n",
    "    outputCols=[\"{0}-encoded\".format(indexer.getOutputCol()) for indexer in indexers]\n",
    ")\n",
    "assembler = VectorAssembler(\n",
    "    inputCols=encoder.getOutputCols(),\n",
    "    outputCol=\"categorical-features\",\n",
    "    handleInvalid=\"skip\"\n",
    ")\n",
    "pipeline = Pipeline(stages=indexers + [encoder, assembler])\n",
    "train_df, test_df = join_df.randomSplit([0.8, 0.2], seed=42)"
   ]
  },
  {
   "cell_type": "code",
   "execution_count": null,
   "metadata": {
    "application/vnd.databricks.v1+cell": {
     "cellMetadata": {
      "byteLimit": 2048000,
      "rowLimit": 10000
     },
     "inputWidgets": {},
     "nuid": "d7d4817d-fcf0-48b9-b7c4-2cb987ba385a",
     "showTitle": false,
     "tableResultSettingsMap": {},
     "title": ""
    },
    "colab": {
     "base_uri": "https://localhost:8080/"
    },
    "id": "2wYbxDSSgo69",
    "outputId": "bc2e0478-8366-4806-ae6b-f995b8007c2c"
   },
   "outputs": [
    {
     "name": "stderr",
     "output_type": "stream",
     "text": [
      "\r",
      "[Stage 122:>                                                        (0 + 1) / 1]\r",
      "\r",
      "                                                                                \r"
     ]
    }
   ],
   "source": [
    "pip = pipeline.fit(train_df)\n",
    "train_df = pip.transform(train_df)\n",
    "test_df = pip.transform(test_df)"
   ]
  },
  {
   "cell_type": "code",
   "execution_count": null,
   "metadata": {
    "application/vnd.databricks.v1+cell": {
     "cellMetadata": {
      "byteLimit": 2048000,
      "rowLimit": 10000
     },
     "inputWidgets": {},
     "nuid": "86b17f88-26f4-4175-96cf-017b0adc435f",
     "showTitle": false,
     "tableResultSettingsMap": {},
     "title": ""
    },
    "id": "cWD0QOovgo69"
   },
   "outputs": [],
   "source": [
    "continuous_variables = [col for col, dtype in join_df.dtypes if dtype == 'double']\n",
    "assembler = VectorAssembler(\n",
    "    inputCols=['categorical-features', *continuous_variables],\n",
    "    outputCol='features',\n",
    "    handleInvalid=\"skip\"\n",
    ")\n",
    "train_df = assembler.transform(train_df)\n",
    "test_df = assembler.transform(test_df)"
   ]
  },
  {
   "cell_type": "code",
   "execution_count": null,
   "metadata": {
    "application/vnd.databricks.v1+cell": {
     "cellMetadata": {
      "byteLimit": 2048000,
      "rowLimit": 10000
     },
     "inputWidgets": {},
     "nuid": "aef25a4a-60ae-42dc-a914-e36eda7040e5",
     "showTitle": false,
     "tableResultSettingsMap": {},
     "title": ""
    },
    "id": "2ddVh5cCgo6-"
   },
   "outputs": [],
   "source": [
    "indexer = StringIndexer(inputCol='funded_amount', outputCol='label', handleInvalid=\"skip\")\n",
    "train_df = indexer.fit(train_df).transform(train_df)\n",
    "test_df = indexer.fit(test_df).transform(test_df)\n",
    "\n"
   ]
  },
  {
   "cell_type": "code",
   "execution_count": null,
   "metadata": {
    "colab": {
     "base_uri": "https://localhost:8080/"
    },
    "id": "ikHwGixwjPtf",
    "outputId": "a72a79eb-eb94-4ad2-8e51-26efa9488aad"
   },
   "outputs": [
    {
     "data": {
      "text/plain": [
       "47"
      ]
     },
     "execution_count": 12,
     "metadata": {},
     "output_type": "execute_result"
    }
   ],
   "source": [
    "len(train_df.columns)"
   ]
  },
  {
   "cell_type": "code",
   "execution_count": null,
   "metadata": {
    "application/vnd.databricks.v1+cell": {
     "cellMetadata": {
      "byteLimit": 2048000,
      "rowLimit": 10000
     },
     "inputWidgets": {},
     "nuid": "5f0cd759-0a19-4164-b294-31383cf282d4",
     "showTitle": false,
     "tableResultSettingsMap": {},
     "title": ""
    },
    "colab": {
     "base_uri": "https://localhost:8080/"
    },
    "id": "EvIKbv3Cgo6-",
    "outputId": "06fe40e5-4da3-40f4-892f-296019733ed8"
   },
   "outputs": [
    {
     "name": "stderr",
     "output_type": "stream",
     "text": [
      "24/12/05 12:43:25 WARN DAGScheduler: Broadcasting large task binary with size 1548.3 KiB\n",
      "24/12/05 12:43:26 WARN InstanceBuilder: Failed to load implementation from:dev.ludovic.netlib.blas.JNIBLAS\n",
      "24/12/05 12:43:26 WARN DAGScheduler: Broadcasting large task binary with size 1549.1 KiB\n",
      "24/12/05 12:43:27 WARN DAGScheduler: Broadcasting large task binary with size 1549.1 KiB\n",
      "24/12/05 12:43:28 WARN DAGScheduler: Broadcasting large task binary with size 1549.1 KiB\n",
      "24/12/05 12:43:29 WARN DAGScheduler: Broadcasting large task binary with size 1549.1 KiB\n",
      "24/12/05 12:43:29 WARN DAGScheduler: Broadcasting large task binary with size 1549.1 KiB\n",
      "24/12/05 12:43:30 WARN DAGScheduler: Broadcasting large task binary with size 1549.1 KiB\n",
      "24/12/05 12:43:30 WARN DAGScheduler: Broadcasting large task binary with size 1549.1 KiB\n",
      "24/12/05 12:43:31 WARN DAGScheduler: Broadcasting large task binary with size 1549.1 KiB\n",
      "24/12/05 12:43:32 WARN DAGScheduler: Broadcasting large task binary with size 1549.1 KiB\n",
      "24/12/05 12:43:32 WARN DAGScheduler: Broadcasting large task binary with size 1549.1 KiB\n",
      "24/12/05 12:43:33 WARN DAGScheduler: Broadcasting large task binary with size 1549.1 KiB\n",
      "24/12/05 12:43:34 WARN DAGScheduler: Broadcasting large task binary with size 1549.1 KiB\n",
      "24/12/05 12:43:35 WARN DAGScheduler: Broadcasting large task binary with size 1549.1 KiB\n",
      "24/12/05 12:43:35 WARN DAGScheduler: Broadcasting large task binary with size 1549.1 KiB\n",
      "24/12/05 12:43:36 WARN DAGScheduler: Broadcasting large task binary with size 1549.1 KiB\n",
      "24/12/05 12:43:37 WARN DAGScheduler: Broadcasting large task binary with size 1549.1 KiB\n",
      "24/12/05 12:43:37 WARN DAGScheduler: Broadcasting large task binary with size 1549.1 KiB\n",
      "24/12/05 12:43:38 WARN DAGScheduler: Broadcasting large task binary with size 1549.1 KiB\n",
      "24/12/05 12:43:39 WARN DAGScheduler: Broadcasting large task binary with size 1549.1 KiB\n",
      "24/12/05 12:43:39 WARN DAGScheduler: Broadcasting large task binary with size 1549.1 KiB\n",
      "24/12/05 12:43:40 WARN DAGScheduler: Broadcasting large task binary with size 1549.1 KiB\n",
      "24/12/05 12:43:41 WARN DAGScheduler: Broadcasting large task binary with size 1549.1 KiB\n",
      "24/12/05 12:43:41 WARN DAGScheduler: Broadcasting large task binary with size 1549.1 KiB\n",
      "24/12/05 12:43:42 WARN DAGScheduler: Broadcasting large task binary with size 1549.1 KiB\n",
      "24/12/05 12:43:43 WARN DAGScheduler: Broadcasting large task binary with size 1549.1 KiB\n",
      "24/12/05 12:43:44 WARN DAGScheduler: Broadcasting large task binary with size 1549.1 KiB\n",
      "24/12/05 12:43:44 WARN DAGScheduler: Broadcasting large task binary with size 1549.1 KiB\n",
      "24/12/05 12:43:45 WARN DAGScheduler: Broadcasting large task binary with size 1549.1 KiB\n",
      "24/12/05 12:43:46 WARN DAGScheduler: Broadcasting large task binary with size 1549.1 KiB\n",
      "24/12/05 12:43:46 WARN DAGScheduler: Broadcasting large task binary with size 1549.1 KiB\n",
      "24/12/05 12:43:47 WARN DAGScheduler: Broadcasting large task binary with size 1549.1 KiB\n",
      "24/12/05 12:43:48 WARN DAGScheduler: Broadcasting large task binary with size 1549.1 KiB\n",
      "24/12/05 12:43:48 WARN DAGScheduler: Broadcasting large task binary with size 1549.1 KiB\n",
      "24/12/05 12:43:49 WARN DAGScheduler: Broadcasting large task binary with size 1549.1 KiB\n",
      "24/12/05 12:43:50 WARN DAGScheduler: Broadcasting large task binary with size 1549.1 KiB\n",
      "24/12/05 12:43:50 WARN DAGScheduler: Broadcasting large task binary with size 1549.1 KiB\n",
      "24/12/05 12:43:51 WARN DAGScheduler: Broadcasting large task binary with size 1549.1 KiB\n",
      "24/12/05 12:43:52 WARN DAGScheduler: Broadcasting large task binary with size 1549.1 KiB\n",
      "24/12/05 12:43:53 WARN DAGScheduler: Broadcasting large task binary with size 1549.1 KiB\n",
      "24/12/05 12:43:53 WARN DAGScheduler: Broadcasting large task binary with size 1549.1 KiB\n",
      "24/12/05 12:43:54 WARN DAGScheduler: Broadcasting large task binary with size 1549.1 KiB\n",
      "24/12/05 12:43:55 WARN DAGScheduler: Broadcasting large task binary with size 1549.1 KiB\n",
      "24/12/05 12:43:55 WARN DAGScheduler: Broadcasting large task binary with size 1549.1 KiB\n",
      "24/12/05 12:43:56 WARN DAGScheduler: Broadcasting large task binary with size 1549.1 KiB\n",
      "24/12/05 12:43:57 WARN DAGScheduler: Broadcasting large task binary with size 1549.1 KiB\n",
      "24/12/05 12:43:58 WARN DAGScheduler: Broadcasting large task binary with size 1549.1 KiB\n",
      "24/12/05 12:43:58 WARN DAGScheduler: Broadcasting large task binary with size 1549.1 KiB\n",
      "24/12/05 12:43:59 WARN DAGScheduler: Broadcasting large task binary with size 1549.1 KiB\n",
      "24/12/05 12:44:00 WARN DAGScheduler: Broadcasting large task binary with size 1549.1 KiB\n",
      "24/12/05 12:44:01 WARN DAGScheduler: Broadcasting large task binary with size 1549.1 KiB\n",
      "24/12/05 12:44:01 WARN DAGScheduler: Broadcasting large task binary with size 1549.1 KiB\n",
      "24/12/05 12:44:02 WARN DAGScheduler: Broadcasting large task binary with size 1549.1 KiB\n",
      "24/12/05 12:44:03 WARN DAGScheduler: Broadcasting large task binary with size 1549.1 KiB\n",
      "24/12/05 12:44:03 WARN DAGScheduler: Broadcasting large task binary with size 1549.1 KiB\n",
      "24/12/05 12:44:04 WARN DAGScheduler: Broadcasting large task binary with size 1549.1 KiB\n",
      "24/12/05 12:44:05 WARN DAGScheduler: Broadcasting large task binary with size 1549.1 KiB\n",
      "24/12/05 12:44:06 WARN DAGScheduler: Broadcasting large task binary with size 1549.1 KiB\n",
      "24/12/05 12:44:06 WARN DAGScheduler: Broadcasting large task binary with size 1549.1 KiB\n",
      "24/12/05 12:44:07 WARN DAGScheduler: Broadcasting large task binary with size 1549.1 KiB\n",
      "24/12/05 12:44:08 WARN DAGScheduler: Broadcasting large task binary with size 1549.1 KiB\n",
      "24/12/05 12:44:08 WARN DAGScheduler: Broadcasting large task binary with size 1549.1 KiB\n",
      "24/12/05 12:44:09 WARN DAGScheduler: Broadcasting large task binary with size 1549.1 KiB\n",
      "24/12/05 12:44:10 WARN DAGScheduler: Broadcasting large task binary with size 1549.1 KiB\n",
      "24/12/05 12:44:10 WARN DAGScheduler: Broadcasting large task binary with size 1549.1 KiB\n",
      "24/12/05 12:44:11 WARN DAGScheduler: Broadcasting large task binary with size 1549.1 KiB\n",
      "24/12/05 12:44:12 WARN DAGScheduler: Broadcasting large task binary with size 1549.1 KiB\n",
      "24/12/05 12:44:13 WARN DAGScheduler: Broadcasting large task binary with size 1549.1 KiB\n",
      "24/12/05 12:44:13 WARN DAGScheduler: Broadcasting large task binary with size 1549.1 KiB\n",
      "24/12/05 12:44:14 WARN DAGScheduler: Broadcasting large task binary with size 1549.1 KiB\n",
      "24/12/05 12:44:15 WARN DAGScheduler: Broadcasting large task binary with size 1549.1 KiB\n",
      "24/12/05 12:44:16 WARN DAGScheduler: Broadcasting large task binary with size 1549.1 KiB\n",
      "24/12/05 12:44:16 WARN DAGScheduler: Broadcasting large task binary with size 1549.1 KiB\n",
      "24/12/05 12:44:17 WARN DAGScheduler: Broadcasting large task binary with size 1549.1 KiB\n",
      "24/12/05 12:44:18 WARN DAGScheduler: Broadcasting large task binary with size 1549.1 KiB\n",
      "24/12/05 12:44:18 WARN DAGScheduler: Broadcasting large task binary with size 1549.1 KiB\n",
      "24/12/05 12:44:19 WARN DAGScheduler: Broadcasting large task binary with size 1549.1 KiB\n",
      "24/12/05 12:44:20 WARN DAGScheduler: Broadcasting large task binary with size 1549.1 KiB\n",
      "24/12/05 12:44:20 WARN DAGScheduler: Broadcasting large task binary with size 1549.1 KiB\n",
      "24/12/05 12:44:21 WARN DAGScheduler: Broadcasting large task binary with size 1549.1 KiB\n",
      "24/12/05 12:44:22 WARN DAGScheduler: Broadcasting large task binary with size 1549.1 KiB\n",
      "24/12/05 12:44:23 WARN DAGScheduler: Broadcasting large task binary with size 1549.1 KiB\n",
      "24/12/05 12:44:23 WARN DAGScheduler: Broadcasting large task binary with size 1549.1 KiB\n",
      "24/12/05 12:44:24 WARN DAGScheduler: Broadcasting large task binary with size 1549.1 KiB\n",
      "24/12/05 12:44:25 WARN DAGScheduler: Broadcasting large task binary with size 1549.1 KiB\n",
      "24/12/05 12:44:25 WARN DAGScheduler: Broadcasting large task binary with size 1549.1 KiB\n",
      "24/12/05 12:44:26 WARN DAGScheduler: Broadcasting large task binary with size 1549.1 KiB\n",
      "24/12/05 12:44:27 WARN DAGScheduler: Broadcasting large task binary with size 1549.1 KiB\n",
      "24/12/05 12:44:28 WARN DAGScheduler: Broadcasting large task binary with size 1549.1 KiB\n",
      "24/12/05 12:44:28 WARN DAGScheduler: Broadcasting large task binary with size 1549.1 KiB\n",
      "24/12/05 12:44:29 WARN DAGScheduler: Broadcasting large task binary with size 1549.1 KiB\n",
      "24/12/05 12:44:30 WARN DAGScheduler: Broadcasting large task binary with size 1549.1 KiB\n",
      "24/12/05 12:44:30 WARN DAGScheduler: Broadcasting large task binary with size 1549.1 KiB\n",
      "24/12/05 12:44:31 WARN DAGScheduler: Broadcasting large task binary with size 1549.1 KiB\n",
      "24/12/05 12:44:32 WARN DAGScheduler: Broadcasting large task binary with size 1549.1 KiB\n",
      "24/12/05 12:44:32 WARN DAGScheduler: Broadcasting large task binary with size 1549.1 KiB\n",
      "24/12/05 12:44:33 WARN DAGScheduler: Broadcasting large task binary with size 1549.1 KiB\n",
      "24/12/05 12:44:34 WARN DAGScheduler: Broadcasting large task binary with size 1549.1 KiB\n",
      "24/12/05 12:44:35 WARN DAGScheduler: Broadcasting large task binary with size 1549.1 KiB\n",
      "24/12/05 12:44:35 WARN DAGScheduler: Broadcasting large task binary with size 1549.1 KiB\n",
      "24/12/05 12:44:36 WARN DAGScheduler: Broadcasting large task binary with size 1549.1 KiB\n",
      "24/12/05 12:44:37 WARN DAGScheduler: Broadcasting large task binary with size 1549.1 KiB\n",
      "24/12/05 12:44:37 WARN DAGScheduler: Broadcasting large task binary with size 1549.1 KiB\n",
      "24/12/05 12:44:38 WARN DAGScheduler: Broadcasting large task binary with size 1549.1 KiB\n"
     ]
    }
   ],
   "source": [
    "lr = LogisticRegression(featuresCol='features', labelCol='label')\n",
    "model = lr.fit(train_df)\n",
    "# model.load(\"dbfs:/lrmodel-1732953611.7421615/\")"
   ]
  },
  {
   "cell_type": "code",
   "execution_count": null,
   "metadata": {
    "application/vnd.databricks.v1+cell": {
     "cellMetadata": {
      "byteLimit": 2048000,
      "rowLimit": 10000
     },
     "inputWidgets": {},
     "nuid": "a83d4321-9456-4e83-bc11-10579f073a8a",
     "showTitle": false,
     "tableResultSettingsMap": {},
     "title": ""
    },
    "id": "vo2_KY0Fgo6-",
    "outputId": "487f5129-4c5f-4dfa-efef-cc543f334485"
   },
   "outputs": [
    {
     "data": {
      "text/plain": []
     },
     "metadata": {
      "application/vnd.databricks.v1+output": {
       "arguments": {},
       "data": "",
       "errorSummary": "Command skipped",
       "errorTraceType": "ansi",
       "metadata": {},
       "type": "ipynbError"
      }
     },
     "output_type": "display_data"
    }
   ],
   "source": [
    "# train_df.write.json(\"/data/train_df.json\", mode=\"overwrite\")\n",
    "# test_df.write.json(\"/data/test_df.json\",  mode=\"overwrite\")\n",
    "# import time\n",
    "# model.save(f\"/lrmodel-{time.time()}\")"
   ]
  },
  {
   "cell_type": "code",
   "execution_count": null,
   "metadata": {
    "application/vnd.databricks.v1+cell": {
     "cellMetadata": {
      "byteLimit": 2048000,
      "rowLimit": 10000
     },
     "inputWidgets": {},
     "nuid": "2a5922d9-9411-42a9-9dd5-2cb7fdfe6450",
     "showTitle": false,
     "tableResultSettingsMap": {},
     "title": ""
    },
    "colab": {
     "base_uri": "https://localhost:8080/"
    },
    "id": "xYyhWdddgo6-",
    "outputId": "1ccd5493-ab9c-47f1-dc4e-2c71a8a407c6"
   },
   "outputs": [
    {
     "name": "stderr",
     "output_type": "stream",
     "text": [
      "24/12/05 12:45:20 WARN SparkStringUtils: Truncated the string representation of a plan since it was too large. This behavior can be adjusted by setting 'spark.sql.debug.maxToStringFields'.\n",
      "24/12/05 12:45:20 WARN DAGScheduler: Broadcasting large task binary with size 34.0 MiB\n"
     ]
    },
    {
     "name": "stdout",
     "output_type": "stream",
     "text": [
      "+--------------------+----------+--------------+----------+-------------------+----------+-----------+-----------+-----------+-----------+-----+-------------+----------+--------+-----------+-----+----------+----------+------------------+--------------------+---------------+----------------+--------------------+-------------------------+----------------+-----------------+-----------+----------+-----------+----------+-------------+-----------------+-----------------------+------------------------+----------------------------+---------------------------------+------------------------+-------------------------+-------------------+------------------+-------------------+------------------+---------------------+-------------------------+--------------------+--------------------+-----+--------------------+--------------------+----------+\n",
      "|           emp_title|emp_length|home_ownership|annual_inc|verification_status|addr_state|avg_cur_bal|Tot_cur_bal|loan_status|loan_amount|state|funded_amount|      term|int_rate|installment|grade|pymnt_plan|      type|           purpose|         description|emp_title-index|emp_length-index|home_ownership-index|verification_status-index|addr_state-index|loan_status-index|state-index|term-index|grade-index|type-index|purpose-index|description-index|emp_title-index-encoded|emp_length-index-encoded|home_ownership-index-encoded|verification_status-index-encoded|addr_state-index-encoded|loan_status-index-encoded|state-index-encoded|term-index-encoded|grade-index-encoded|type-index-encoded|purpose-index-encoded|description-index-encoded|categorical-features|            features|label|       rawPrediction|         probability|prediction|\n",
      "+--------------------+----------+--------------+----------+-------------------+----------+-----------+-----------+-----------+-----------+-----+-------------+----------+--------+-----------+-----+----------+----------+------------------+--------------------+---------------+----------------+--------------------+-------------------------+----------------+-----------------+-----------+----------+-----------+----------+-------------+-----------------+-----------------------+------------------------+----------------------------+---------------------------------+------------------------+-------------------------+-------------------+------------------+-------------------+------------------+---------------------+-------------------------+--------------------+--------------------+-----+--------------------+--------------------+----------+\n",
      "|     Account Manager|   2 years|      MORTGAGE|   48000.0|       Not Verified|        TN|      24284|     194268|    Current|       7500|   TN|         7500| 36 months|  0.0944|  240.03999|    B|     false|Individual|       credit_card|Credit card refin...|           20.0|             1.0|                 0.0|                      1.0|            20.0|              0.0|       20.0|       0.0|        0.0|       0.0|          1.0|              1.0|      (5046,[20],[1.0])|          (11,[1],[1.0])|               (3,[0],[1.0])|                    (2,[1],[1.0])|         (49,[20],[1.0])|            (6,[0],[1.0])|    (49,[20],[1.0])|     (1,[0],[1.0])|      (6,[0],[1.0])|     (4,[0],[1.0])|       (12,[1],[1.0])|          (275,[1],[1.0])|(5464,[20,5047,50...|(5467,[20,5047,50...| 69.0|[218.174252843064...|[6.14420266019831...|      50.0|\n",
      "|     Account Manager|   9 years|          RENT|   45000.0|           Verified|        CA|      19372|     116231| Fully Paid|       8000|   CA|         8000| 36 months|  0.1049|  259.98999|    B|     false|INDIVIDUAL|  home_improvement|    Home improvement|           20.0|            10.0|                 1.0|                      2.0|             0.0|              1.0|        0.0|       0.0|        0.0|       1.0|          2.0|              2.0|      (5046,[20],[1.0])|         (11,[10],[1.0])|               (3,[1],[1.0])|                        (2,[],[])|          (49,[0],[1.0])|            (6,[1],[1.0])|     (49,[0],[1.0])|     (1,[0],[1.0])|      (6,[0],[1.0])|     (4,[1],[1.0])|       (12,[2],[1.0])|          (275,[2],[1.0])|(5464,[20,5056,50...|(5467,[20,5056,50...|  5.0|[187.982985420083...|[2.65752427285397...|      39.0|\n",
      "|     Account Manager|  < 1 year|          RENT|   60000.0|           Verified|        CO|       5649|      33894| Fully Paid|      15850|   CO|        15850| 60 months|  0.1953|  415.79999|    D|     false|INDIVIDUAL|debt_consolidation|  Debt consolidation|           20.0|             3.0|                 1.0|                      2.0|            15.0|              1.0|       15.0|       1.0|        3.0|       1.0|          0.0|              0.0|      (5046,[20],[1.0])|          (11,[3],[1.0])|               (3,[1],[1.0])|                        (2,[],[])|         (49,[15],[1.0])|            (6,[1],[1.0])|    (49,[15],[1.0])|         (1,[],[])|      (6,[3],[1.0])|     (4,[1],[1.0])|       (12,[0],[1.0])|          (275,[0],[1.0])|(5464,[20,5049,50...|(5467,[20,5049,50...|113.0|[149.354358666578...|[7.03027883065096...|     100.0|\n",
      "|     Account manager|   4 years|           OWN|  100000.0|    Source Verified|        MI|       9219|     119845|    Current|      14000|   MI|        14000| 60 months|   0.263|     421.66|    E|     false|Individual|debt_consolidation|  Debt consolidation|          381.0|             4.0|                 2.0|                      0.0|            11.0|              0.0|       11.0|       1.0|        4.0|       0.0|          0.0|              0.0|     (5046,[381],[1.0])|          (11,[4],[1.0])|               (3,[2],[1.0])|                    (2,[0],[1.0])|         (49,[11],[1.0])|            (6,[0],[1.0])|    (49,[11],[1.0])|         (1,[],[])|      (6,[4],[1.0])|     (4,[0],[1.0])|       (12,[0],[1.0])|          (275,[0],[1.0])|(5464,[381,5050,5...|(5467,[381,5050,5...| 19.0|[2.89215466001930...|[1.53244051620642...|      23.0|\n",
      "|     Account manager|   9 years|      MORTGAGE|   60000.0|       Not Verified|        NH|      14959|     299189|    Current|      20000|   NH|        20000| 36 months|  0.1148|  659.33002|    B|     false|INDIVIDUAL|  home_improvement|    Home improvement|          381.0|            10.0|                 0.0|                      1.0|            35.0|              0.0|       35.0|       0.0|        0.0|       1.0|          2.0|              2.0|     (5046,[381],[1.0])|         (11,[10],[1.0])|               (3,[0],[1.0])|                    (2,[1],[1.0])|         (49,[35],[1.0])|            (6,[0],[1.0])|    (49,[35],[1.0])|     (1,[0],[1.0])|      (6,[0],[1.0])|     (4,[1],[1.0])|       (12,[2],[1.0])|          (275,[2],[1.0])|(5464,[381,5056,5...|(5467,[381,5056,5...|  1.0|[24.8438200588612...|[3.13275035166718...|      23.0|\n",
      "|          Accountant|   6 years|      MORTGAGE|   49000.0|    Source Verified|        NM|      12180|     109616|    Current|      15000|   NM|        15000| 60 months|  0.0784|      303.0|    A|     false| Joint App|debt_consolidation|  Debt consolidation|           19.0|             7.0|                 0.0|                      0.0|            34.0|              0.0|       34.0|       1.0|        2.0|       2.0|          0.0|              0.0|      (5046,[19],[1.0])|          (11,[7],[1.0])|               (3,[0],[1.0])|                    (2,[0],[1.0])|         (49,[34],[1.0])|            (6,[0],[1.0])|    (49,[34],[1.0])|         (1,[],[])|      (6,[2],[1.0])|     (4,[2],[1.0])|       (12,[0],[1.0])|          (275,[0],[1.0])|(5464,[19,5053,50...|(5467,[19,5053,50...|  2.0|[150.354595634750...|[1.38311347912865...|      18.0|\n",
      "|         Accountant | 10+ years|      MORTGAGE|   80000.0|    Source Verified|        TX|       9841|      98412| Fully Paid|       2000|   TX|         2000| 36 months|  0.1149|  65.949997|    B|     false|Individual|  home_improvement|    Home improvement|          141.0|             0.0|                 0.0|                      0.0|             1.0|              1.0|        1.0|       0.0|        0.0|       0.0|          2.0|              2.0|     (5046,[141],[1.0])|          (11,[0],[1.0])|               (3,[0],[1.0])|                    (2,[0],[1.0])|          (49,[1],[1.0])|            (6,[1],[1.0])|     (49,[1],[1.0])|     (1,[0],[1.0])|      (6,[0],[1.0])|     (4,[0],[1.0])|       (12,[2],[1.0])|          (275,[2],[1.0])|(5464,[141,5046,5...|(5467,[141,5046,5...| 21.0|[-31.783192878697...|[1.25900339642973...|       1.0|\n",
      "|          Accounting|   3 years|          RENT|   43000.0|       Not Verified|        NM|       1889|       9443| Fully Paid|       4800|   NM|         4800| 36 months|  0.1274|     161.14|    C|     false|Individual|debt_consolidation|  Debt consolidation|          801.0|             2.0|                 1.0|                      1.0|            34.0|              1.0|       34.0|       0.0|        1.0|       0.0|          0.0|              0.0|     (5046,[801],[1.0])|          (11,[2],[1.0])|               (3,[1],[1.0])|                    (2,[1],[1.0])|         (49,[34],[1.0])|            (6,[1],[1.0])|    (49,[34],[1.0])|     (1,[0],[1.0])|      (6,[1],[1.0])|     (4,[0],[1.0])|       (12,[0],[1.0])|          (275,[0],[1.0])|(5464,[801,5048,5...|(5467,[801,5048,5...| 22.0|[-11.496773849587...|[4.65021794599001...|     151.0|\n",
      "|         Accounting |   5 years|          RENT|   42000.0|       Not Verified|        AL|        957|      15307| Fully Paid|       9600|   AL|         9600| 36 months|  0.0639|  293.76001|    A|     false|Individual|debt_consolidation|  Debt consolidation|          249.0|             6.0|                 1.0|                      1.0|            25.0|              1.0|       25.0|       0.0|        2.0|       0.0|          0.0|              0.0|     (5046,[249],[1.0])|          (11,[6],[1.0])|               (3,[1],[1.0])|                    (2,[1],[1.0])|         (49,[25],[1.0])|            (6,[1],[1.0])|    (49,[25],[1.0])|     (1,[0],[1.0])|      (6,[2],[1.0])|     (4,[0],[1.0])|       (12,[0],[1.0])|          (275,[0],[1.0])|(5464,[249,5052,5...|(5467,[249,5052,5...| 27.0|[177.040815536087...|[0.99999999999999...|       0.0|\n",
      "|  Accounting Manager|   3 years|      MORTGAGE|  140000.0|    Source Verified|        FL|      19732|     295977|    Current|      35000|   FL|        35000| 36 months|  0.1042|    1136.27|    B|     false|Individual|       credit_card|Credit card refin...|           63.0|             2.0|                 0.0|                      0.0|             3.0|              0.0|        3.0|       0.0|        0.0|       0.0|          1.0|              1.0|      (5046,[63],[1.0])|          (11,[2],[1.0])|               (3,[0],[1.0])|                    (2,[0],[1.0])|          (49,[3],[1.0])|            (6,[0],[1.0])|     (49,[3],[1.0])|     (1,[0],[1.0])|      (6,[0],[1.0])|     (4,[0],[1.0])|       (12,[1],[1.0])|          (275,[1],[1.0])|(5464,[63,5048,50...|(5467,[63,5048,50...|  7.0|[112.942449707398...|[5.82122171121483...|       4.0|\n",
      "|Accounting Specia...|   2 years|          RENT|   56000.0|    Source Verified|        NY|       5007|      85126| Fully Paid|       3000|   NY|         3000| 36 months|  0.0916|  95.629997|    B|     false|INDIVIDUAL|       credit_card|Credit card refin...|          382.0|             1.0|                 1.0|                      0.0|             2.0|              1.0|        2.0|       0.0|        0.0|       1.0|          1.0|              1.0|     (5046,[382],[1.0])|          (11,[1],[1.0])|               (3,[1],[1.0])|                    (2,[0],[1.0])|          (49,[2],[1.0])|            (6,[1],[1.0])|     (49,[2],[1.0])|     (1,[0],[1.0])|      (6,[0],[1.0])|     (4,[1],[1.0])|       (12,[1],[1.0])|          (275,[1],[1.0])|(5464,[382,5047,5...|(5467,[382,5047,5...| 34.0|[-25.667508910337...|[6.58907910990765...|       2.0|\n",
      "| Accounts Receivable|   4 years|          RENT|   40000.0|       Not Verified|        PA|       1665|      19984| Fully Paid|      10550|   PA|        10550| 36 months|  0.1153|  348.04999|    B|     false|Individual|debt_consolidation|  Debt consolidation|          815.0|             4.0|                 1.0|                      1.0|             6.0|              1.0|        6.0|       0.0|        0.0|       0.0|          0.0|              0.0|     (5046,[815],[1.0])|          (11,[4],[1.0])|               (3,[1],[1.0])|                    (2,[1],[1.0])|          (49,[6],[1.0])|            (6,[1],[1.0])|     (49,[6],[1.0])|     (1,[0],[1.0])|      (6,[0],[1.0])|     (4,[0],[1.0])|       (12,[0],[1.0])|          (275,[0],[1.0])|(5464,[815,5050,5...|(5467,[815,5050,5...| 74.0|[-7.6541497364939...|[7.41470125906575...|       3.0|\n",
      "|   Adjunct Professor| 10+ years|      MORTGAGE|   84000.0|           Verified|        FL|      18793|     413449| Fully Paid|       1300|   FL|         1300| 36 months|  0.0689|  40.080002|    A|     false|Individual|  home_improvement|    Home improvement|          827.0|             0.0|                 0.0|                      2.0|             3.0|              1.0|        3.0|       0.0|        2.0|       0.0|          2.0|              2.0|     (5046,[827],[1.0])|          (11,[0],[1.0])|               (3,[0],[1.0])|                        (2,[],[])|          (49,[3],[1.0])|            (6,[1],[1.0])|     (49,[3],[1.0])|     (1,[0],[1.0])|      (6,[2],[1.0])|     (4,[0],[1.0])|       (12,[2],[1.0])|          (275,[2],[1.0])|(5464,[827,5046,5...|(5467,[827,5046,5...| 90.0|[21.8193248402600...|[4.98462497660836...|      74.0|\n",
      "|Administrative As...|    1 year|          RENT|   24000.0|    Source Verified|        OH|       1099|      15385|Charged Off|       5000|   OH|         5000| 36 months|  0.1269|     167.73|    C|     false|Individual|debt_consolidation|  Debt consolidation|           24.0|             5.0|                 1.0|                      0.0|             8.0|              2.0|        8.0|       0.0|        1.0|       0.0|          0.0|              0.0|      (5046,[24],[1.0])|          (11,[5],[1.0])|               (3,[1],[1.0])|                    (2,[0],[1.0])|          (49,[8],[1.0])|            (6,[2],[1.0])|     (49,[8],[1.0])|     (1,[0],[1.0])|      (6,[1],[1.0])|     (4,[0],[1.0])|       (12,[0],[1.0])|          (275,[0],[1.0])|(5464,[24,5051,50...|(5467,[24,5051,50...|  6.0|[190.145457919018...|[5.94395358646934...|       5.0|\n",
      "|Administrative As...| 10+ years|      MORTGAGE|   51534.0|       Not Verified|        AL|      12997|     142974|Charged Off|      12275|   AL|        12275| 36 months|  0.1499|  425.45999|    C|     false|Individual|debt_consolidation|  Debt consolidation|           24.0|             0.0|                 0.0|                      1.0|            25.0|              2.0|       25.0|       0.0|        1.0|       0.0|          0.0|              0.0|      (5046,[24],[1.0])|          (11,[0],[1.0])|               (3,[0],[1.0])|                    (2,[1],[1.0])|         (49,[25],[1.0])|            (6,[2],[1.0])|    (49,[25],[1.0])|     (1,[0],[1.0])|      (6,[1],[1.0])|     (4,[0],[1.0])|       (12,[0],[1.0])|          (275,[0],[1.0])|(5464,[24,5046,50...|(5467,[24,5046,50...| 87.0|[216.559037770906...|[0.18797489417393...|       3.0|\n",
      "|Administrative As...| 10+ years|          RENT|   41000.0|       Not Verified|        NY|        609|       6090|    Current|       3200|   NY|         3200| 36 months|  0.0702|  98.839996|    A|     false|Individual|       credit_card|Credit card refin...|           24.0|             0.0|                 1.0|                      1.0|             2.0|              0.0|        2.0|       0.0|        2.0|       0.0|          1.0|              1.0|      (5046,[24],[1.0])|          (11,[0],[1.0])|               (3,[1],[1.0])|                    (2,[1],[1.0])|          (49,[2],[1.0])|            (6,[0],[1.0])|     (49,[2],[1.0])|     (1,[0],[1.0])|      (6,[2],[1.0])|     (4,[0],[1.0])|       (12,[1],[1.0])|          (275,[1],[1.0])|(5464,[24,5046,50...|(5467,[24,5046,50...| 62.0|[203.000558280711...|[1.30018658935207...|       5.0|\n",
      "|Administrative As...|   4 years|      MORTGAGE|   35000.0|           Verified|        CO|       7327|      43959|    Current|      15000|   CO|        15000| 36 months|  0.1999|     557.38|    D|     false|INDIVIDUAL|debt_consolidation|  Debt consolidation|           24.0|             4.0|                 0.0|                      2.0|            15.0|              0.0|       15.0|       0.0|        3.0|       1.0|          0.0|              0.0|      (5046,[24],[1.0])|          (11,[4],[1.0])|               (3,[0],[1.0])|                        (2,[],[])|         (49,[15],[1.0])|            (6,[0],[1.0])|    (49,[15],[1.0])|     (1,[0],[1.0])|      (6,[3],[1.0])|     (4,[1],[1.0])|       (12,[0],[1.0])|          (275,[0],[1.0])|(5464,[24,5050,50...|(5467,[24,5050,50...|  2.0|[157.923496356530...|[6.37083731412522...|      30.0|\n",
      "|Administrative As...|   4 years|          RENT|   30000.0|       Not Verified|        TX|       2529|      22764|    Current|      12175|   TX|        12175| 60 months|  0.2305|  343.57001|    D|     false|Individual|       credit_card|Credit card refin...|           24.0|             4.0|                 1.0|                      1.0|             1.0|              0.0|        1.0|       1.0|        3.0|       0.0|          1.0|              1.0|      (5046,[24],[1.0])|          (11,[4],[1.0])|               (3,[1],[1.0])|                    (2,[1],[1.0])|          (49,[1],[1.0])|            (6,[0],[1.0])|     (49,[1],[1.0])|         (1,[],[])|      (6,[3],[1.0])|     (4,[0],[1.0])|       (12,[1],[1.0])|          (275,[1],[1.0])|(5464,[24,5050,50...|(5467,[24,5050,50...| 85.0|[183.519508771058...|[4.98569495681902...|      22.0|\n",
      "|Administrative As...|  < 1 year|      MORTGAGE|   60000.0|    Source Verified|        ND|      25789|     257886|    Current|      15400|   ND|        15400| 60 months|  0.1102|  334.98999|    B|     false|Individual|debt_consolidation|  Debt consolidation|           87.0|             3.0|                 0.0|                      0.0|            48.0|              0.0|       48.0|       1.0|        0.0|       0.0|          0.0|              0.0|      (5046,[87],[1.0])|          (11,[3],[1.0])|               (3,[0],[1.0])|                    (2,[0],[1.0])|         (49,[48],[1.0])|            (6,[0],[1.0])|    (49,[48],[1.0])|         (1,[],[])|      (6,[0],[1.0])|     (4,[0],[1.0])|       (12,[0],[1.0])|          (275,[0],[1.0])|(5464,[87,5049,50...|(5467,[87,5049,50...| 49.0|[-108.62843411786...|[2.06507491135156...|      26.0|\n",
      "|Administrative Ma...| 10+ years|          RENT|   50000.0|       Not Verified|        FL|       1832|      21989| Fully Paid|       6400|   FL|         6400| 36 months|  0.1465|     220.77|    C|     false|Individual|debt_consolidation|  Debt consolidation|          850.0|             0.0|                 1.0|                      1.0|             3.0|              1.0|        3.0|       0.0|        1.0|       0.0|          0.0|              0.0|     (5046,[850],[1.0])|          (11,[0],[1.0])|               (3,[1],[1.0])|                    (2,[1],[1.0])|          (49,[3],[1.0])|            (6,[1],[1.0])|     (49,[3],[1.0])|     (1,[0],[1.0])|      (6,[1],[1.0])|     (4,[0],[1.0])|       (12,[0],[1.0])|          (275,[0],[1.0])|(5464,[850,5046,5...|(5467,[850,5046,5...| 43.0|[-20.954881585052...|[2.52165961858793...|       2.0|\n",
      "+--------------------+----------+--------------+----------+-------------------+----------+-----------+-----------+-----------+-----------+-----+-------------+----------+--------+-----------+-----+----------+----------+------------------+--------------------+---------------+----------------+--------------------+-------------------------+----------------+-----------------+-----------+----------+-----------+----------+-------------+-----------------+-----------------------+------------------------+----------------------------+---------------------------------+------------------------+-------------------------+-------------------+------------------+-------------------+------------------+---------------------+-------------------------+--------------------+--------------------+-----+--------------------+--------------------+----------+\n",
      "only showing top 20 rows\n",
      "\n"
     ]
    }
   ],
   "source": [
    "pred = model.transform(test_df)\n",
    "pred.show()"
   ]
  },
  {
   "cell_type": "code",
   "execution_count": null,
   "metadata": {
    "application/vnd.databricks.v1+cell": {
     "cellMetadata": {
      "byteLimit": 2048000,
      "rowLimit": 10000
     },
     "inputWidgets": {},
     "nuid": "24b62b7b-b077-4d74-ba31-f6654c7cfff7",
     "showTitle": false,
     "tableResultSettingsMap": {},
     "title": ""
    },
    "colab": {
     "base_uri": "https://localhost:8080/"
    },
    "id": "k160ECs9go6-",
    "outputId": "4305a583-3846-4039-d4a4-f42cd52a32d9"
   },
   "outputs": [
    {
     "name": "stderr",
     "output_type": "stream",
     "text": [
      "24/12/05 12:45:45 WARN DAGScheduler: Broadcasting large task binary with size 33.5 MiB\n"
     ]
    },
    {
     "name": "stdout",
     "output_type": "stream",
     "text": [
      "Root Mean Squared Error (RMSE): 124.54504181965842\n",
      "Mean Absolute Error (MAE): 59.45116279069767\n"
     ]
    },
    {
     "name": "stderr",
     "output_type": "stream",
     "text": [
      "24/12/05 12:45:45 WARN DAGScheduler: Broadcasting large task binary with size 33.5 MiB\n"
     ]
    }
   ],
   "source": [
    "evaluator = RegressionEvaluator(labelCol=\"label\", predictionCol=\"prediction\", metricName=\"rmse\")\n",
    "rmse = evaluator.evaluate(pred)\n",
    "print(f\"Root Mean Squared Error (RMSE): {rmse}\")\n",
    "\n",
    "# Evaluate Mean Absolute Error (MAE)\n",
    "mae_evaluator = RegressionEvaluator(labelCol=\"label\", predictionCol=\"prediction\", metricName=\"mae\")\n",
    "mae = mae_evaluator.evaluate(pred)\n",
    "print(f\"Mean Absolute Error (MAE): {mae}\")"
   ]
  },
  {
   "cell_type": "code",
   "execution_count": null,
   "metadata": {
    "application/vnd.databricks.v1+cell": {
     "cellMetadata": {
      "byteLimit": 2048000,
      "rowLimit": 10000
     },
     "inputWidgets": {},
     "nuid": "55f1e5b3-aab2-4a4c-a426-25891fe7df4d",
     "showTitle": false,
     "tableResultSettingsMap": {},
     "title": ""
    },
    "id": "d8JJtKzNgo6-"
   },
   "outputs": [],
   "source": []
  }
 ],
 "metadata": {
  "application/vnd.databricks.v1+notebook": {
   "dashboards": [],
   "environmentMetadata": null,
   "language": "python",
   "notebookMetadata": {
    "pythonIndentUnit": 4
   },
   "notebookName": "Regression",
   "widgets": {}
  },
  "colab": {
   "provenance": []
  },
  "kernelspec": {
   "display_name": "Python 3 (ipykernel)",
   "language": "python",
   "name": "python3"
  },
  "language_info": {
   "codemirror_mode": {
    "name": "ipython",
    "version": 3
   },
   "file_extension": ".py",
   "mimetype": "text/x-python",
   "name": "python",
   "nbconvert_exporter": "python",
   "pygments_lexer": "ipython3",
   "version": "3.9.20"
  }
 },
 "nbformat": 4,
 "nbformat_minor": 4
}
