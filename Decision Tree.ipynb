{
 "cells": [
  {
   "cell_type": "code",
   "execution_count": null,
   "metadata": {
    "application/vnd.databricks.v1+cell": {
     "cellMetadata": {
      "byteLimit": 2048000,
      "rowLimit": 10000
     },
     "inputWidgets": {},
     "nuid": "8c135718-0cb1-43a0-bdb5-5d505d270f5a",
     "showTitle": false,
     "tableResultSettingsMap": {},
     "title": ""
    }
   },
   "outputs": [
    {
     "name": "stdout",
     "output_type": "stream",
     "text": [
      "Requirement already satisfied: kagglehub in /local_disk0/.ephemeral_nfs/envs/pythonEnv-d17efb68-69d4-4653-8d22-d76944ded0ee/lib/python3.9/site-packages (0.3.4)\r\n",
      "Requirement already satisfied: packaging in /databricks/python3/lib/python3.9/site-packages (from kagglehub) (21.3)\r\n",
      "Requirement already satisfied: tqdm in /local_disk0/.ephemeral_nfs/envs/pythonEnv-d17efb68-69d4-4653-8d22-d76944ded0ee/lib/python3.9/site-packages (from kagglehub) (4.67.1)\r\n",
      "Requirement already satisfied: requests in /databricks/python3/lib/python3.9/site-packages (from kagglehub) (2.27.1)\r\n",
      "Requirement already satisfied: pyparsing!=3.0.5,>=2.0.2 in /databricks/python3/lib/python3.9/site-packages (from packaging->kagglehub) (3.0.4)\r\n",
      "Requirement already satisfied: charset-normalizer~=2.0.0 in /databricks/python3/lib/python3.9/site-packages (from requests->kagglehub) (2.0.4)\r\n",
      "Requirement already satisfied: idna<4,>=2.5 in /databricks/python3/lib/python3.9/site-packages (from requests->kagglehub) (3.3)\r\n",
      "Requirement already satisfied: certifi>=2017.4.17 in /databricks/python3/lib/python3.9/site-packages (from requests->kagglehub) (2021.10.8)\r\n",
      "Requirement already satisfied: urllib3<1.27,>=1.21.1 in /databricks/python3/lib/python3.9/site-packages (from requests->kagglehub) (1.26.9)\r\n",
      "\u001b[33mWARNING: You are using pip version 21.2.4; however, version 24.3.1 is available.\r\n",
      "You should consider upgrading via the '/local_disk0/.ephemeral_nfs/envs/pythonEnv-d17efb68-69d4-4653-8d22-d76944ded0ee/bin/python -m pip install --upgrade pip' command.\u001b[0m\r\n"
     ]
    }
   ],
   "source": [
    "%python\n",
    "!pip install kagglehub"
   ]
  },
  {
   "cell_type": "code",
   "execution_count": null,
   "metadata": {
    "application/vnd.databricks.v1+cell": {
     "cellMetadata": {
      "byteLimit": 2048000,
      "rowLimit": 10000
     },
     "inputWidgets": {},
     "nuid": "064f0d80-eedb-436f-ae6f-5a31c913e4aa",
     "showTitle": false,
     "tableResultSettingsMap": {},
     "title": ""
    }
   },
   "outputs": [
    {
     "name": "stdout",
     "output_type": "stream",
     "text": [
      "Path to dataset files: /root/.cache/kagglehub/datasets/mustafakeser4/bigquery-fintech-dataset/versions/1\n"
     ]
    }
   ],
   "source": [
    "%python\n",
    "import kagglehub\n",
    "from pyspark.sql import SparkSession\n",
    "from pyspark.sql.functions import col\n",
    "from pyspark.ml.feature import Imputer, StringIndexer, OneHotEncoder, VectorAssembler\n",
    "from pyspark.ml.regression import RandomForestRegressor, DecisionTreeRegressor\n",
    "from pyspark.ml.evaluation import RegressionEvaluator\n",
    "from pyspark.ml.evaluation import BinaryClassificationEvaluator\n",
    "# Download latest version\n",
    "path = kagglehub.dataset_download(\"mustafakeser4/bigquery-fintech-dataset\")\n",
    "\n",
    "print(\"Path to dataset files:\", path)"
   ]
  },
  {
   "cell_type": "code",
   "execution_count": null,
   "metadata": {
    "application/vnd.databricks.v1+cell": {
     "cellMetadata": {
      "byteLimit": 2048000,
      "rowLimit": 10000
     },
     "inputWidgets": {},
     "nuid": "b24a9664-c8eb-4cac-afc4-1cfa6cea7657",
     "showTitle": false,
     "tableResultSettingsMap": {},
     "title": ""
    }
   },
   "outputs": [],
   "source": [
    "%python\n",
    "customer_df = spark.read.csv(\n",
    "    \"file:///root/.cache/kagglehub/datasets/mustafakeser4/bigquery-fintech-dataset/versions/1/customer.csv\",\n",
    "    header=True,       # Set to True if the CSV has a header\n",
    "    inferSchema=True,  # Prevent automatic type inference if fields are irregular\n",
    "    multiLine=True,     # Support multi-line fields\n",
    "    quote='\"',          # Handle quoted fields properly\n",
    "    escape='\"',         # Escape quotes inside quoted fields\n",
    "    sep=\",\"             # Specify comma as the delimiter\n",
    ")\n",
    "loan_df = spark.read.csv(\n",
    "    \"file:///root/.cache/kagglehub/datasets/mustafakeser4/bigquery-fintech-dataset/versions/1/loan.csv\",\n",
    "    header=True,       # Set to True if the CSV has a header\n",
    "    inferSchema=True,  # Prevent automatic type inference if fields are irregular\n",
    "    multiLine=True,     # Support multi-line fields\n",
    "    quote='\"',          # Handle quoted fields properly\n",
    "    escape='\"',         # Escape quotes inside quoted fields\n",
    "    sep=\",\"             # Specify comma as the delimiter\n",
    ")"
   ]
  },
  {
   "cell_type": "code",
   "execution_count": null,
   "metadata": {
    "application/vnd.databricks.v1+cell": {
     "cellMetadata": {
      "byteLimit": 2048000,
      "rowLimit": 10000
     },
     "inputWidgets": {},
     "nuid": "d5058052-a7f5-4897-998c-fdf207eaf7cd",
     "showTitle": false,
     "tableResultSettingsMap": {},
     "title": ""
    }
   },
   "outputs": [
    {
     "name": "stdout",
     "output_type": "stream",
     "text": [
      "root\n",
      " |-- home_ownership: string (nullable = true)\n",
      " |-- annual_inc: double (nullable = true)\n",
      " |-- annual_inc_joint: double (nullable = true)\n",
      " |-- verification_status: string (nullable = true)\n",
      " |-- zip_code: string (nullable = true)\n",
      " |-- addr_state: string (nullable = true)\n",
      " |-- avg_cur_bal: double (nullable = true)\n",
      " |-- Tot_cur_bal: double (nullable = true)\n",
      " |-- loan_status: string (nullable = true)\n",
      " |-- loan_amount: double (nullable = true)\n",
      " |-- state: string (nullable = true)\n",
      " |-- funded_amount: double (nullable = true)\n",
      " |-- term: string (nullable = true)\n",
      " |-- int_rate: double (nullable = true)\n",
      " |-- installment: double (nullable = true)\n",
      " |-- issue_d: string (nullable = true)\n",
      " |-- issue_date: string (nullable = true)\n",
      " |-- issue_year: double (nullable = true)\n",
      " |-- pymnt_plan: boolean (nullable = true)\n",
      " |-- type: string (nullable = true)\n",
      " |-- purpose: string (nullable = true)\n",
      "\n"
     ]
    }
   ],
   "source": [
    "data2 = customer_df.join(loan_df, customer_df.customer_id == loan_df.customer_id).drop(\"customer_id\").drop(\"loan_id\").drop(\"emp_title\").drop(\"emp_length\").drop(\"grade\").drop(\"description\").drop(\"notes\")\n",
    "data2.printSchema()"
   ]
  },
  {
   "cell_type": "code",
   "execution_count": null,
   "metadata": {
    "application/vnd.databricks.v1+cell": {
     "cellMetadata": {
      "byteLimit": 2048000,
      "rowLimit": 10000
     },
     "inputWidgets": {},
     "nuid": "4234c2d1-34f4-4515-acef-b0181c84ba61",
     "showTitle": false,
     "tableResultSettingsMap": {},
     "title": ""
    }
   },
   "outputs": [
    {
     "name": "stdout",
     "output_type": "stream",
     "text": [
      "Root Mean Squared Error (RMSE): 312.02956062108615\n",
      "Mean Absolute Error (MAE): 134.2521759515924\n"
     ]
    }
   ],
   "source": [
    "data = customer_df.join(loan_df, customer_df.customer_id == loan_df.customer_id).drop(\"customer_id\").drop(\"loan_id\").drop(\"emp_title\").drop(\"emp_length\").drop(\"grade\").drop(\"description\").drop(\"notes\")\n",
    "\n",
    "# Fill missing values\n",
    "imputer = Imputer(inputCols=[\"annual_inc\", \"annual_inc_joint\", \"avg_cur_bal\", \"Tot_cur_bal\", \"loan_amount\", \"int_rate\", \"installment\"],\n",
    "                  outputCols=[\"annual_inc\", \"annual_inc_joint\", \"avg_cur_bal\", \"Tot_cur_bal\", \"loan_amount\", \"int_rate\", \"installment\"])\n",
    "data = imputer.fit(data).transform(data)\n",
    "\n",
    "# StringIndexer for categorical variables\n",
    "indexers = [\n",
    "    StringIndexer(inputCol=col, outputCol=f\"{col}_index\", handleInvalid=\"skip\").fit(data)\n",
    "    for col in [ \"home_ownership\", \"verification_status\", \"state\",  \"purpose\"]\n",
    "]\n",
    "for indexer in indexers:\n",
    "    data = indexer.transform(data)\n",
    "\n",
    "# OneHotEncoder for indexed columns\n",
    "encoder = OneHotEncoder(inputCols=[f\"{col}_index\" for col in [\"home_ownership\", \"verification_status\", \"state\",  \"purpose\"]],\n",
    "                        outputCols=[f\"{col}_vec\" for col in [\"home_ownership\", \"verification_status\", \"state\",  \"purpose\"]])\n",
    "data = encoder.fit(data).transform(data)\n",
    "\n",
    "# Assemble features\n",
    "assembler = VectorAssembler(\n",
    "    inputCols=[\"annual_inc\", \"annual_inc_joint\", \"avg_cur_bal\", \"Tot_cur_bal\", \"loan_amount\", \"int_rate\", \"installment\"] +\n",
    "              [f\"{col}_vec\" for col in [\"home_ownership\", \"verification_status\", \"state\",  \"purpose\"]],\n",
    "    outputCol=\"features\", handleInvalid=\"skip\"\n",
    ")\n",
    "data = assembler.transform(data)\n",
    "\n",
    "\n",
    "\n",
    "# Save the model\n"
   ]
  },
  {
   "cell_type": "code",
   "execution_count": null,
   "metadata": {
    "application/vnd.databricks.v1+cell": {
     "cellMetadata": {},
     "inputWidgets": {},
     "nuid": "bd9c9260-d948-4f78-9cf3-dc8acca045e2",
     "showTitle": false,
     "tableResultSettingsMap": {},
     "title": ""
    }
   },
   "outputs": [],
   "source": [
    "# Select final dataset for training and testing\n",
    "data = data.select(\"features\", col(\"funded_amount\").alias(\"label\"))\n",
    "\n",
    "# Split data into training and testing sets\n",
    "train_data, test_data = data.randomSplit([0.7, 0.3])\n",
    "\n",
    "# Define Random Forest Regressor\n",
    "rf = DecisionTreeRegressor(featuresCol=\"features\", labelCol=\"label\", maxDepth=20)\n",
    "\n",
    "# Train the model\n",
    "rf_model = rf.fit(train_data)\n",
    "\n",
    "# Make predictions\n",
    "predictions = rf_model.transform(test_data)\n",
    "\n",
    "# Evaluate model performance\n",
    "evaluator = RegressionEvaluator(labelCol=\"label\", predictionCol=\"prediction\", metricName=\"rmse\")\n",
    "rmse = evaluator.evaluate(predictions)\n",
    "print(f\"Root Mean Squared Error (RMSE): {rmse}\")\n",
    "\n",
    "# Evaluate Mean Absolute Error (MAE)\n",
    "mae_evaluator = RegressionEvaluator(labelCol=\"label\", predictionCol=\"prediction\", metricName=\"mae\")\n",
    "mae = mae_evaluator.evaluate(predictions)\n",
    "print(f\"Mean Absolute Error (MAE): {mae}\")\n",
    "import time\n",
    "rf_model.save(f\"decision_tree_model_{time.time()}\")"
   ]
  },
  {
   "cell_type": "code",
   "execution_count": null,
   "metadata": {
    "application/vnd.databricks.v1+cell": {
     "cellMetadata": {
      "byteLimit": 2048000,
      "rowLimit": 10000
     },
     "inputWidgets": {},
     "nuid": "98266c8d-6166-4b2a-a2e0-27b5fd002fd0",
     "showTitle": false,
     "tableResultSettingsMap": {},
     "title": ""
    }
   },
   "outputs": [],
   "source": []
  },
  {
   "cell_type": "code",
   "execution_count": null,
   "metadata": {
    "application/vnd.databricks.v1+cell": {
     "cellMetadata": {
      "byteLimit": 2048000,
      "rowLimit": 10000
     },
     "inputWidgets": {},
     "nuid": "488acd71-ea84-4ce4-a046-1b4a993bc23a",
     "showTitle": false,
     "tableResultSettingsMap": {},
     "title": ""
    }
   },
   "outputs": [
    {
     "name": "stdout",
     "output_type": "stream",
     "text": [
      "Out[15]: 'DecisionTreeRegressionModel: uid=DecisionTreeRegressor_2115307f5b0c, depth=10, numNodes=1681, numFeatures=76\\n  If (feature 4 <= 18487.5)\\n   If (feature 4 <= 9987.5)\\n    If (feature 4 <= 5987.5)\\n     If (feature 4 <= 3737.5)\\n      If (feature 4 <= 2850.0)\\n       If (feature 6 <= 92.91)\\n        If (feature 5 <= 0.20525)\\n         If (feature 67 in {1.0})\\n          If (feature 5 <= 0.11005000000000001)\\n           If (feature 0 <= 71040.0)\\n            Predict: 1819.7519083969466\\n           Else (feature 0 > 71040.0)\\n            Predict: 2039.2045454545455\\n          Else (feature 5 > 0.11005000000000001)\\n           If (feature 0 <= 24131.0)\\n            Predict: 1616.2735849056603\\n           Else (feature 0 > 24131.0)\\n            Predict: 1733.816837315131\\n         Else (feature 67 not in {1.0})\\n          If (feature 5 <= 0.11005000000000001)\\n           If (feature 69 in {1.0})\\n            Predict: 1817.6315789473683\\n           Else (feature 69 not in {1.0})\\n            Predict: 1987.999311294766\\n          Else (feature 5 > 0.11005000000000001)\\n           If (feature 64 in {0.0})\\n            Predict: 1843.3219178082193\\n           Else (feature 64 not in {0.0})\\n            Predict: 1938.7072434607646\\n        Else (feature 5 > 0.20525)\\n         If (feature 5 <= 0.2272)\\n          If (feature 3 <= 65723.5)\\n           If (feature 0 <= 24131.0)\\n            Predict: 1840.0\\n           Else (feature 0 > 24131.0)\\n            Predict: 1598.611111111111\\n          Else (feature 3 > 65723.5)\\n           If (feature 0 <= 24131.0)\\n            Predict: 1000.0\\n           Else (feature 0 > 24131.0)\\n            Predict: 1854.6296296296296\\n         Else (feature 5 > 0.2272)\\n          If (feature 64 in {0.0})\\n           If (feature 66 in {0.0})\\n            Predict: 1392.8048780487804\\n           Else (feature 66 not in {0.0})\\n            Predict: 1719.2307692307693\\n          Else (feature 64 not in {0.0})\\n           If (feature 0 <= 71040.0)\\n            Predict: 1548.4126984126983\\n           Else (feature 0 > 71040.0)\\n            Predict: 1973.076923076923\\n       Else (feature 6 > 92.91)\\n        If (feature 5 <= 0.19475)\\n         If (feature 5 <= 0.15935)\\n          If (feature 5 <= 0.14984999999999998)\\n           If (feature 5 <= 0.11610000000000001)\\n            Predict: 2841.6666666666665\\n           Else (feature 5 > 0.11610000000000001)\\n            Predict: 2801.2820512820513\\n          Else (feature 5 > 0.14984999999999998)\\n           If (feature 2 <= 20057.0)\\n            Predict: 2791.176470588235\\n           Else (feature 2 > 20057.0)\\n            Predict: 2737.5\\n         Else (feature 5 > 0.15935)\\n          If (feature 53 in {1.0})\\n           Predict: 2525.0\\n          Else (feature 53 not in {1.0})\\n           If (feature 69 in {1.0})\\n            Predict: 2662.5\\n           Else (feature 69 not in {1.0})\\n            Predict: 2758.5164835164837\\n        Else (feature 5 > 0.19475)\\n         If (feature 27 in {1.0})\\n          Predict: 2200.0\\n         Else (feature 27 not in {1.0})\\n          If (feature 1 <= 105103.0)\\n           If (feature 0 <= 63010.0)\\n            Predict: 2471.4285714285716\\n           Else (feature 0 > 63010.0)\\n            Predict: 2625.0\\n          Else (feature 1 > 105103.0)\\n           If (feature 16 in {0.0})\\n            Predict: 2602.3255813953488\\n           Else (feature 16 not in {0.0})\\n            Predict: 2698.076923076923\\n      Else (feature 4 > 2850.0)\\n       If (feature 6 <= 124.74000000000001)\\n        If (feature 5 <= 0.14984999999999998)\\n         If (feature 6 <= 92.91)\\n          If (feature 5 <= 0.0978)\\n           If (feature 5 <= 0.07525)\\n            Predict: 2997.0588235294117\\n           Else (feature 5 > 0.07525)\\n            Predict: 2883.3333333333335\\n          Else (feature 5 > 0.0978)\\n           If (feature 0 <= 39857.0)\\n            Predict: 3500.0\\n           Else (feature 0 > 39857.0)\\n            Predict: 3000.0\\n         Else (feature 6 > 92.91)\\n          If (feature 5 <= 0.07095)\\n           If (feature 12 in {1.0})\\n            Predict: 3411.3636363636365\\n           Else (feature 12 not in {1.0})\\n            Predict: 3479.3939393939395\\n          Else (feature 5 > 0.07095)\\n           If (feature 67 in {1.0})\\n            Predict: 3189.8243801652893\\n           Else (feature 67 not in {1.0})\\n            Predict: 3226.8426842684266\\n        Else (feature 5 > 0.14984999999999998)\\n         If (feature 5 <= 0.1704)\\n          If (feature 37 in {0.0})\\n           If (feature 31 in {0.0})\\n            Predict: 3127.44140625\\n           Else (feature 31 not in {0.0})\\n            Predict: 3315.625\\n          Else (feature 37 not in {0.0})\\n           If (feature 0 <= 44525.0)\\n            Predict: 3000.0\\n           Else (feature 0 > 44525.0)\\n            Predict: 3500.0\\n         Else (feature 5 > 0.1704)\\n          If (feature 6 <= 92.91)\\n           If (feature 5 <= 0.1835)\\n            Predict: 3550.0\\n           Else (feature 5 > 0.1835)\\n            Predict: 3033.3333333333335\\n          Else (feature 6 > 92.91)\\n           If (feature 64 in {0.0})\\n            Predict: 3042.8571428571427\\n           Else (feature 64 not in {0.0})\\n            Predict: 3059.285714285714\\n       Else (feature 6 > 124.74000000000001)\\n        If (feature 5 <= 0.26270000000000004)\\n         If (feature 5 <= 0.20525)\\n          If (feature 5 <= 0.16265)\\n           If (feature 5 <= 0.14984999999999998)\\n            Predict: 3705.5555555555557\\n           Else (feature 5 > 0.14984999999999998)\\n            Predict: 3621.176470588235\\n          Else (feature 5 > 0.16265)\\n           If (feature 5 <= 0.1704)\\n            Predict: 3589.4444444444443\\n           Else (feature 5 > 0.1704)\\n            Predict: 3561.862244897959\\n         Else (feature 5 > 0.20525)\\n          If (feature 66 in {1.0})\\n           If (feature 0 <= 65004.9395)\\n            Predict: 3216.6666666666665\\n           Else (feature 0 > 65004.9395)\\n            Predict: 3541.6666666666665\\n          Else (feature 66 not in {1.0})\\n           If (feature 14 in {1.0})\\n            Predict: 3425.0\\n           Else (feature 14 not in {1.0})\\n            Predict: 3522.1428571428573\\n        Else (feature 5 > 0.26270000000000004)\\n         If (feature 2 <= 6233.5)\\n          If (feature 39 in {1.0})\\n           Predict: 3000.0\\n          Else (feature 39 not in {1.0})\\n           If (feature 3 <= 22522.0)\\n            Predict: 3502.777777777778\\n           Else (feature 3 > 22522.0)\\n            Predict: 3317.5\\n         Else (feature 2 > 6233.5)\\n          If (feature 0 <= 149500.0)\\n           If (feature 8 in {0.0})\\n            Predict: 3015.625\\n           Else (feature 8 not in {0.0})\\n            Predict: 3235.714285714286\\n          Else (feature 0 > 149500.0)\\n           Predict: 3600.0\\n     Else (feature 4 > 3737.5)\\n      If (feature 4 <= 4812.5)\\n       If (feature 6 <= 155.945)\\n        If (feature 5 <= 0.10525)\\n         If (feature 6 <= 124.74000000000001)\\n          If (feature 5 <= 0.07894999999999999)\\n           If (feature 0 <= 24131.0)\\n            Predict: 4031.5789473684213\\n           Else (feature 0 > 24131.0)\\n            Predict: 3990.234375\\n          Else (feature 5 > 0.07894999999999999)\\n           If (feature 5 <= 0.0854)\\n            Predict: 3871.4285714285716\\n           Else (feature 5 > 0.0854)\\n            Predict: 3804.5454545454545\\n         Else (feature 6 > 124.74000000000001)\\n          If (feature 5 <= 0.07525)\\n           If (feature 37 in {0.0})\\n            Predict: 4543.946540880504\\n           Else (feature 37 not in {0.0})\\n            Predict: 4766.666666666667\\n          Else (feature 5 > 0.07525)\\n           If (feature 5 <= 0.08185)\\n            Predict: 4339.3\\n           Else (feature 5 > 0.08185)\\n            Predict: 4250.364349775785\\n        Else (feature 5 > 0.10525)\\n         If (feature 5 <= 0.14984999999999998)\\n          If (feature 70 in {1.0})\\n           If (feature 2 <= 4577.5)\\n            Predict: 3966.6666666666665\\n           Else (feature 2 > 4577.5)\\n            Predict: 4120.0\\n          Else (feature 70 not in {1.0})\\n           If (feature 69 in {1.0})\\n            Predict: 4041.4285714285716\\n           Else (feature 69 not in {1.0})\\n            Predict: 4117.254840724547\\n         Else (feature 5 > 0.14984999999999998)\\n          If (feature 5 <= 0.1775)\\n           If (feature 6 <= 124.74000000000001)\\n            Predict: 4216.666666666667\\n           Else (feature 6 > 124.74000000000001)\\n            Predict: 4060.521739130435\\n          Else (feature 5 > 0.1775)\\n           If (feature 5 <= 0.2272)\\n            Predict: 4015.7042253521126\\n           Else (feature 5 > 0.2272)\\n            Predict: 3967.682926829268\\n       Else (feature 6 > 155.945)\\n        If (feature 5 <= 0.2272)\\n         If (feature 5 <= 0.15275)\\n          If (feature 5 <= 0.14984999999999998)\\n           If (feature 5 <= 0.1432)\\n            Predict: 4794.036697247707\\n           Else (feature 5 > 0.1432)\\n            Predict: 4767.261904761905\\n          Else (feature 5 > 0.14984999999999998)\\n           If (feature 13 in {1.0})\\n            Predict: 4660.3448275862065\\n           Else (feature 13 not in {1.0})\\n            Predict: 4740.086206896552\\n         Else (feature 5 > 0.15275)\\n          If (feature 6 <= 172.064995)\\n           If (feature 5 <= 0.1775)\\n            Predict: 4641.847826086957\\n           Else (feature 5 > 0.1775)\\n            Predict: 4414.285714285715\\n          Else (feature 6 > 172.064995)\\n           If (feature 49 in {1.0})\\n            Predict: 4500.0\\n           Else (feature 49 not in {1.0})\\n            Predict: 4781.439393939394\\n        Else (feature 5 > 0.2272)\\n         If (feature 6 <= 172.064995)\\n          If (feature 5 <= 0.26270000000000004)\\n           If (feature 0 <= 29770.0)\\n            Predict: 4028.125\\n           Else (feature 0 > 29770.0)\\n            Predict: 4125.0\\n          Else (feature 5 > 0.26270000000000004)\\n           If (feature 9 in {0.0})\\n            Predict: 4002.5\\n           Else (feature 9 not in {0.0})\\n            Predict: 4091.6666666666665\\n         Else (feature 6 > 172.064995)\\n          If (feature 6 <= 193.704995)\\n           If (feature 5 <= 0.26270000000000004)\\n            Predict: 4626.153846153846\\n           Else (feature 5 > 0.26270000000000004)\\n            Predict: 4387.5\\n          Else (feature 6 > 193.704995)\\n           If (feature 0 <= 32941.0)\\n            Predict: 4725.0\\n           Else (feature 0 > 32941.0)\\n            Predict: 4796.875\\n      Else (feature 4 > 4812.5)\\n       If (feature 4 <= 5025.0)\\n        If (feature 5 <= 0.15275)\\n         If (feature 0 <= 29770.0)\\n          If (feature 28 in {1.0})\\n           If (feature 2 <= 2156.0)\\n            Predict: 5000.0\\n           Else (feature 2 > 2156.0)\\n            Predict: 4825.0\\n          Else (feature 28 not in {1.0})\\n           If (feature 2 <= 20057.0)\\n            Predict: 4997.129909365559\\n           Else (feature 2 > 20057.0)\\n            Predict: 4984.259259259259\\n         Else (feature 0 > 29770.0)\\n          If (feature 22 in {1.0})\\n           If (feature 71 in {1.0})\\n            Predict: 4925.0\\n           Else (feature 71 not in {1.0})\\n            Predict: 4995.7602339181285\\n          Else (feature 22 not in {1.0})\\n           If (feature 5 <= 0.10525)\\n            Predict: 4998.8394793926245\\n           Else (feature 5 > 0.10525)\\n            Predict: 4997.692633361558\\n        Else (feature 5 > 0.15275)\\n         If (feature 6 <= 172.064995)\\n          If (feature 6 <= 155.945)\\n           Predict: 5000.0\\n          Else (feature 6 > 155.945)\\n           If (feature 5 <= 0.1704)\\n            Predict: 4853.571428571428\\n           Else (feature 5 > 0.1704)\\n            Predict: 5000.0\\n         Else (feature 6 > 172.064995)\\n          If (feature 54 in {1.0})\\n           If (feature 0 <= 24131.0)\\n            Predict: 4875.0\\n           Else (feature 0 > 24131.0)\\n            Predict: 5000.0\\n          Else (feature 54 not in {1.0})\\n           If (feature 56 in {1.0})\\n            Predict: 4950.0\\n           Else (feature 56 not in {1.0})\\n            Predict: 4996.254295532646\\n       Else (feature 4 > 5025.0)\\n        If (feature 6 <= 172.064995)\\n         If (feature 5 <= 0.07894999999999999)\\n          If (feature 6 <= 155.945)\\n           If (feature 6 <= 124.74000000000001)\\n            Predict: 5500.0\\n           Else (feature 6 > 124.74000000000001)\\n            Predict: 5070.454545454545\\n          Else (feature 6 > 155.945)\\n           If (feature 5 <= 0.06645)\\n            Predict: 5452.5\\n           Else (feature 5 > 0.06645)\\n            Predict: 5353.886010362694\\n         Else (feature 5 > 0.07894999999999999)\\n          If (feature 5 <= 0.2272)\\n           If (feature 5 <= 0.09165000000000001)\\n            Predict: 5283.0078125\\n           Else (feature 5 > 0.09165000000000001)\\n            Predict: 5185.909090909091\\n          Else (feature 5 > 0.2272)\\n           If (feature 2 <= 4577.5)\\n            Predict: 5687.5\\n           Else (feature 2 > 4577.5)\\n            Predict: 5925.0\\n        Else (feature 6 > 172.064995)\\n         If (feature 6 <= 193.704995)\\n          If (feature 5 <= 0.13985)\\n           If (feature 5 <= 0.09165000000000001)\\n            Predict: 5633.3922261484095\\n           Else (feature 5 > 0.09165000000000001)\\n            Predict: 5508.242358078603\\n          Else (feature 5 > 0.13985)\\n           If (feature 5 <= 0.15935)\\n            Predict: 5385.921501706484\\n           Else (feature 5 > 0.15935)\\n            Predict: 5248.118279569892\\n         Else (feature 6 > 193.704995)\\n          If (feature 5 <= 0.15935)\\n           If (feature 5 <= 0.14984999999999998)\\n            Predict: 5841.818181818182\\n           Else (feature 5 > 0.14984999999999998)\\n            Predict: 5702.573529411765\\n          Else (feature 5 > 0.15935)\\n           If (feature 5 <= 0.19475)\\n            Predict: 5620.923913043478\\n           Else (feature 5 > 0.19475)\\n            Predict: 5465.940366972477\\n    Else (feature 4 > 5987.5)\\n     If (feature 4 <= 7987.5)\\n      If (feature 4 <= 6412.5)\\n       If (feature 6 <= 213.745)\\n        If (feature 6 <= 193.704995)\\n         If (feature 5 <= 0.06645)\\n          If (feature 71 in {0.0})\\n           If (feature 15 in {1.0})\\n            Predict: 6000.0\\n           Else (feature 15 not in {1.0})\\n            Predict: 6032.324455205811\\n          Else (feature 71 not in {0.0})\\n           If (feature 2 <= 10324.5)\\n            Predict: 6350.0\\n           Else (feature 2 > 10324.5)\\n            Predict: 6000.0\\n         Else (feature 5 > 0.06645)\\n          If (feature 6 <= 172.064995)\\n           If (feature 5 <= 0.16265)\\n            Predict: 6200.0\\n           Else (feature 5 > 0.16265)\\n            Predict: 6000.0\\n          Else (feature 6 > 172.064995)\\n           If (feature 28 in {0.0})\\n            Predict: 6001.327565632459\\n           Else (feature 28 not in {0.0})\\n            Predict: 6013.28125\\n        Else (feature 6 > 193.704995)\\n         If (feature 5 <= 0.0978)\\n          If (feature 5 <= 0.07525)\\n           If (feature 38 in {1.0})\\n            Predict: 6250.0\\n           Else (feature 38 not in {1.0})\\n            Predict: 6375.287356321839\\n          Else (feature 5 > 0.07525)\\n           If (feature 2 <= 4577.5)\\n            Predict: 6332.5268817204305\\n           Else (feature 2 > 4577.5)\\n            Predict: 6363.636363636364\\n         Else (feature 5 > 0.0978)\\n          If (feature 5 <= 0.12445)\\n           If (feature 5 <= 0.10245)\\n            Predict: 6105.530973451328\\n           Else (feature 5 > 0.10245)\\n            Predict: 6047.808823529412\\n          Else (feature 5 > 0.12445)\\n           If (feature 28 in {0.0})\\n            Predict: 6009.263189812007\\n           Else (feature 28 not in {0.0})\\n            Predict: 6033.1578947368425\\n       Else (feature 6 > 213.745)\\n        If (feature 5 <= 0.16265)\\n         If (feature 5 <= 0.15275)\\n          If (feature 3 <= 5662.0)\\n           If (feature 5 <= 0.1432)\\n            Predict: 6387.5\\n           Else (feature 5 > 0.1432)\\n            Predict: 6320.0\\n          Else (feature 3 > 5662.0)\\n           If (feature 48 in {1.0})\\n            Predict: 6312.5\\n           Else (feature 48 not in {1.0})\\n            Predict: 6383.706467661692\\n         Else (feature 5 > 0.15275)\\n          If (feature 5 <= 0.15935)\\n           If (feature 3 <= 229877.5)\\n            Predict: 6321.551724137931\\n           Else (feature 3 > 229877.5)\\n            Predict: 6175.0\\n          Else (feature 5 > 0.15935)\\n           If (feature 66 in {1.0})\\n            Predict: 6250.0\\n           Else (feature 66 not in {1.0})\\n            Predict: 6377.586206896552\\n        Else (feature 5 > 0.16265)\\n         If (feature 6 <= 233.78)\\n          If (feature 5 <= 0.19475)\\n           If (feature 5 <= 0.1704)\\n            Predict: 6147.863247863248\\n           Else (feature 5 > 0.1704)\\n            Predict: 6074.878934624698\\n          Else (feature 5 > 0.19475)\\n           If (feature 61 in {0.0})\\n            Predict: 6011.618257261411\\n           Else (feature 61 not in {0.0})\\n            Predict: 6250.0\\n         Else (feature 6 > 233.78)\\n          If (feature 5 <= 0.2272)\\n           If (feature 37 in {1.0})\\n            Predict: 6150.0\\n           Else (feature 37 not in {1.0})\\n            Predict: 6370.2830188679245\\n          Else (feature 5 > 0.2272)\\n           If (feature 6 <= 250.265)\\n            Predict: 6070.32967032967\\n           Else (feature 6 > 250.265)\\n            Predict: 6250.0\\n      Else (feature 4 > 6412.5)\\n       If (feature 4 <= 7175.0)\\n        If (feature 6 <= 213.745)\\n         If (feature 5 <= 0.060950000000000004)\\n          If (feature 29 in {1.0})\\n           If (feature 64 in {1.0})\\n            Predict: 6500.0\\n           Else (feature 64 not in {1.0})\\n            Predict: 6806.25\\n          Else (feature 29 not in {1.0})\\n           If (feature 3 <= 229877.5)\\n            Predict: 6905.330882352941\\n           Else (feature 3 > 229877.5)\\n            Predict: 6821.951219512195\\n         Else (feature 5 > 0.060950000000000004)\\n          If (feature 5 <= 0.11610000000000001)\\n           If (feature 5 <= 0.06645)\\n            Predict: 6693.055555555556\\n           Else (feature 5 > 0.06645)\\n            Predict: 6541.855670103093\\n          Else (feature 5 > 0.11610000000000001)\\n           If (feature 66 in {1.0})\\n            Predict: 6500.0\\n           Else (feature 66 not in {1.0})\\n            Predict: 6988.461538461538\\n        Else (feature 6 > 213.745)\\n         If (feature 5 <= 0.11005000000000001)\\n          If (feature 5 <= 0.0978)\\n           If (feature 5 <= 0.060950000000000004)\\n            Predict: 7116.666666666667\\n           Else (feature 5 > 0.060950000000000004)\\n            Predict: 6998.144329896907\\n          Else (feature 5 > 0.0978)\\n           If (feature 1 <= 130836.03668277609)\\n            Predict: 6963.08962264151\\n           Else (feature 1 > 130836.03668277609)\\n            Predict: 6782.142857142857\\n         Else (feature 5 > 0.11005000000000001)\\n          If (feature 6 <= 233.78)\\n           If (feature 5 <= 0.12445)\\n            Predict: 6869.7807017543855\\n           Else (feature 5 > 0.12445)\\n            Predict: 6572.640449438202\\n          Else (feature 6 > 233.78)\\n           If (feature 5 <= 0.1704)\\n            Predict: 6990.187557182067\\n           Else (feature 5 > 0.1704)\\n            Predict: 6856.895280235988\\n       Else (feature 4 > 7175.0)\\n        If (feature 6 <= 250.265)\\n         If (feature 5 <= 0.12445)\\n          If (feature 6 <= 233.78)\\n           If (feature 5 <= 0.07894999999999999)\\n            Predict: 7377.043010752688\\n           Else (feature 5 > 0.07894999999999999)\\n            Predict: 7227.729257641921\\n          Else (feature 6 > 233.78)\\n           If (feature 5 <= 0.10245)\\n            Predict: 7602.1714922049\\n           Else (feature 5 > 0.10245)\\n            Predict: 7362.043189368771\\n         Else (feature 5 > 0.12445)\\n          If (feature 6 <= 233.78)\\n           If (feature 2 <= 7097.5)\\n            Predict: 7586.538461538462\\n           Else (feature 2 > 7097.5)\\n            Predict: 7303.125\\n          Else (feature 6 > 233.78)\\n           If (feature 37 in {0.0})\\n            Predict: 7209.580838323353\\n           Else (feature 37 not in {0.0})\\n            Predict: 7261.111111111111\\n        Else (feature 6 > 250.265)\\n         If (feature 5 <= 0.1202)\\n          If (feature 5 <= 0.10525)\\n           If (feature 5 <= 0.09165000000000001)\\n            Predict: 7964.285714285715\\n           Else (feature 5 > 0.09165000000000001)\\n            Predict: 7853.571428571428\\n          Else (feature 5 > 0.10525)\\n           If (feature 69 in {0.0})\\n            Predict: 7769.417475728155\\n           Else (feature 69 not in {0.0})\\n            Predict: 7975.0\\n         Else (feature 5 > 0.1202)\\n          If (feature 6 <= 265.65501)\\n           If (feature 5 <= 0.14984999999999998)\\n            Predict: 7552.908587257618\\n           Else (feature 5 > 0.14984999999999998)\\n            Predict: 7320.870206489675\\n          Else (feature 6 > 265.65501)\\n           If (feature 5 <= 0.1704)\\n            Predict: 7782.03781512605\\n           Else (feature 5 > 0.1704)\\n            Predict: 7545.715835140998\\n     Else (feature 4 > 7987.5)\\n      If (feature 4 <= 8812.5)\\n       If (feature 6 <= 282.90001)\\n        If (feature 6 <= 265.65501)\\n         If (feature 5 <= 0.0854)\\n          If (feature 6 <= 250.265)\\n           If (feature 51 in {0.0})\\n            Predict: 8002.087332053743\\n           Else (feature 51 not in {0.0})\\n            Predict: 8040.0\\n          Else (feature 6 > 250.265)\\n           If (feature 5 <= 0.07525)\\n            Predict: 8445.519713261649\\n           Else (feature 5 > 0.07525)\\n            Predict: 8096.513353115727\\n         Else (feature 5 > 0.0854)\\n          If (feature 6 <= 233.78)\\n           If (feature 0 <= 39857.0)\\n            Predict: 8251.666666666666\\n           Else (feature 0 > 39857.0)\\n            Predict: 8040.384615384615\\n          Else (feature 6 > 233.78)\\n           If (feature 5 <= 0.09165000000000001)\\n            Predict: 8010.8247422680415\\n           Else (feature 5 > 0.09165000000000001)\\n            Predict: 8001.678168130489\\n        Else (feature 6 > 265.65501)\\n         If (feature 5 <= 0.11610000000000001)\\n          If (feature 5 <= 0.0854)\\n           If (feature 5 <= 0.07525)\\n            Predict: 8761.046511627907\\n           Else (feature 5 > 0.07525)\\n            Predict: 8574.409448818898\\n          Else (feature 5 > 0.0854)\\n           If (feature 5 <= 0.0978)\\n            Predict: 8488.397790055249\\n           Else (feature 5 > 0.0978)\\n            Predict: 8432.808398950132\\n         Else (feature 5 > 0.11610000000000001)\\n          If (feature 5 <= 0.12445)\\n           If (feature 5 <= 0.1202)\\n            Predict: 8154.5362903225805\\n           Else (feature 5 > 0.1202)\\n            Predict: 8080.8011049723755\\n          Else (feature 5 > 0.12445)\\n           If (feature 5 <= 0.13095)\\n            Predict: 8038.90625\\n           Else (feature 5 > 0.13095)\\n            Predict: 8008.1773799837265\\n       Else (feature 6 > 282.90001)\\n        If (feature 5 <= 0.16265)\\n         If (feature 5 <= 0.1202)\\n          If (feature 3 <= 5662.0)\\n           Predict: 8525.0\\n          Else (feature 3 > 5662.0)\\n           If (feature 22 in {1.0})\\n            Predict: 8600.0\\n           Else (feature 22 not in {1.0})\\n            Predict: 8753.45744680851\\n         Else (feature 5 > 0.1202)\\n          If (feature 6 <= 302.35501)\\n           If (feature 5 <= 0.13585)\\n            Predict: 8539.70588235294\\n           Else (feature 5 > 0.13585)\\n            Predict: 8455.165816326531\\n          Else (feature 6 > 302.35501)\\n           If (feature 12 in {1.0})\\n            Predict: 8681.25\\n           Else (feature 12 not in {1.0})\\n            Predict: 8771.739130434782\\n        Else (feature 5 > 0.16265)\\n         If (feature 6 <= 302.35501)\\n          If (feature 5 <= 0.1704)\\n           If (feature 2 <= 16451.0)\\n            Predict: 8111.737804878048\\n           Else (feature 2 > 16451.0)\\n            Predict: 8232.5\\n          Else (feature 5 > 0.1704)\\n           If (feature 46 in {0.0})\\n            Predict: 8023.818525519849\\n           Else (feature 46 not in {0.0})\\n            Predict: 8266.666666666666\\n         Else (feature 6 > 302.35501)\\n          If (feature 5 <= 0.20525)\\n           If (feature 6 <= 316.289995)\\n            Predict: 8517.342342342343\\n           Else (feature 6 > 316.289995)\\n            Predict: 8736.585365853658\\n          Else (feature 5 > 0.20525)\\n           If (feature 6 <= \n",
      "\n",
      "*** WARNING: max output size exceeded, skipping output. ***\n",
      "\n",
      "         Else (feature 6 > 558.31)\\n           If (feature 5 <= 0.0854)\\n            Predict: 28160.37037037037\\n           Else (feature 5 > 0.0854)\\n            Predict: 27850.260416666668\\n         Else (feature 5 > 0.0978)\\n          If (feature 5 <= 0.10245)\\n           If (feature 3 <= 137553.0)\\n            Predict: 27165.0\\n           Else (feature 3 > 137553.0)\\n            Predict: 27436.25\\n          Else (feature 5 > 0.10245)\\n           If (feature 5 <= 0.11005000000000001)\\n            Predict: 27071.11111111111\\n           Else (feature 5 > 0.11005000000000001)\\n            Predict: 26835.0\\n        Else (feature 6 > 594.57999)\\n         If (feature 5 <= 0.0978)\\n          If (feature 5 <= 0.0854)\\n           If (feature 0 <= 59989.0)\\n            Predict: 29737.5\\n           Else (feature 0 > 59989.0)\\n            Predict: 29483.333333333332\\n          Else (feature 5 > 0.0854)\\n           If (feature 20 in {0.0})\\n            Predict: 29036.25\\n           Else (feature 20 not in {0.0})\\n            Predict: 29712.5\\n         Else (feature 5 > 0.0978)\\n          If (feature 5 <= 0.11610000000000001)\\n           If (feature 60 in {0.0})\\n            Predict: 28131.542056074766\\n           Else (feature 60 not in {0.0})\\n            Predict: 29475.0\\n          Else (feature 5 > 0.11610000000000001)\\n           If (feature 0 <= 69999.5)\\n            Predict: 27333.928571428572\\n           Else (feature 0 > 69999.5)\\n            Predict: 27666.447368421053\\n       Else (feature 5 > 0.1202)\\n        If (feature 23 in {0.0})\\n         If (feature 2 <= 823.5)\\n          Predict: 28000.0\\n         Else (feature 2 > 823.5)\\n          If (feature 70 in {0.0})\\n           If (feature 5 <= 0.13985)\\n            Predict: 26982.838983050846\\n           Else (feature 5 > 0.13985)\\n            Predict: 26772.058823529413\\n          Else (feature 70 not in {0.0})\\n           Predict: 28000.0\\n        Else (feature 23 not in {0.0})\\n         If (feature 0 <= 77967.5)\\n          Predict: 27300.0\\n         Else (feature 0 > 77967.5)\\n          Predict: 28000.0\\n      Else (feature 6 > 628.205015)\\n       If (feature 6 <= 1021.325)\\n        If (feature 6 <= 898.0)\\n         If (feature 5 <= 0.11610000000000001)\\n          If (feature 6 <= 665.485015)\\n           If (feature 3 <= 457445.5)\\n            Predict: 29232.14285714286\\n           Else (feature 3 > 457445.5)\\n            Predict: 29604.166666666668\\n          Else (feature 6 > 665.485015)\\n           If (feature 5 <= 0.0978)\\n            Predict: 27865.604925053532\\n           Else (feature 5 > 0.0978)\\n            Predict: 26972.115384615383\\n         Else (feature 5 > 0.11610000000000001)\\n          If (feature 6 <= 704.575015)\\n           If (feature 5 <= 0.14984999999999998)\\n            Predict: 28278.539325842696\\n           Else (feature 5 > 0.14984999999999998)\\n            Predict: 27698.559479553904\\n          Else (feature 6 > 704.575015)\\n           If (feature 5 <= 0.13095)\\n            Predict: 26720.0\\n           Else (feature 5 > 0.13095)\\n            Predict: 28283.571428571428\\n        Else (feature 6 > 898.0)\\n         If (feature 5 <= 0.0978)\\n          If (feature 5 <= 0.09165000000000001)\\n           If (feature 8 in {1.0})\\n            Predict: 28992.5\\n           Else (feature 8 not in {1.0})\\n            Predict: 29332.327586206895\\n          Else (feature 5 > 0.09165000000000001)\\n           If (feature 0 <= 97997.89850000001)\\n            Predict: 29111.11111111111\\n           Else (feature 0 > 97997.89850000001)\\n            Predict: 28333.333333333332\\n         Else (feature 5 > 0.0978)\\n          If (feature 5 <= 0.13985)\\n           If (feature 0 <= 69999.5)\\n            Predict: 28427.16049382716\\n           Else (feature 0 > 69999.5)\\n            Predict: 28177.727272727272\\n          Else (feature 5 > 0.13985)\\n           If (feature 5 <= 0.2272)\\n            Predict: 27743.138424821\\n           Else (feature 5 > 0.2272)\\n            Predict: 28745.121951219513\\n       Else (feature 6 > 1021.325)\\n        If (feature 5 <= 0.19475)\\n         If (feature 5 <= 0.1835)\\n          If (feature 5 <= 0.16265)\\n           If (feature 9 in {0.0})\\n            Predict: 29533.333333333332\\n           Else (feature 9 not in {0.0})\\n            Predict: 29875.0\\n          Else (feature 5 > 0.16265)\\n           If (feature 3 <= 36533.5)\\n            Predict: 29639.285714285714\\n           Else (feature 3 > 36533.5)\\n            Predict: 29247.14285714286\\n         Else (feature 5 > 0.1835)\\n          If (feature 2 <= 20057.0)\\n           If (feature 16 in {0.0})\\n            Predict: 28958.333333333332\\n           Else (feature 16 not in {0.0})\\n            Predict: 29725.0\\n          Else (feature 2 > 20057.0)\\n           If (feature 3 <= 389100.0)\\n            Predict: 28100.0\\n           Else (feature 3 > 389100.0)\\n            Predict: 28843.75\\n        Else (feature 5 > 0.19475)\\n         If (feature 5 <= 0.2272)\\n          If (feature 30 in {0.0})\\n           If (feature 17 in {1.0})\\n            Predict: 27620.0\\n           Else (feature 17 not in {1.0})\\n            Predict: 28333.45588235294\\n          Else (feature 30 not in {0.0})\\n           If (feature 0 <= 65004.9395)\\n            Predict: 29900.0\\n           Else (feature 0 > 65004.9395)\\n            Predict: 29050.0\\n         Else (feature 5 > 0.2272)\\n          If (feature 0 <= 129844.0)\\n           If (feature 50 in {0.0})\\n            Predict: 27727.717391304348\\n           Else (feature 50 not in {0.0})\\n            Predict: 29950.0\\n          Else (feature 0 > 129844.0)\\n           If (feature 2 <= 16451.0)\\n            Predict: 29092.85714285714\\n           Else (feature 2 > 16451.0)\\n            Predict: 27791.666666666668\\n   Else (feature 4 > 29987.5)\\n    If (feature 4 <= 35100.0)\\n     If (feature 4 <= 31950.0)\\n      If (feature 6 <= 704.575015)\\n       If (feature 5 <= 0.11610000000000001)\\n        If (feature 6 <= 665.485015)\\n         If (feature 5 <= 0.09165000000000001)\\n          If (feature 6 <= 628.205015)\\n           If (feature 40 in {0.0})\\n            Predict: 30039.94845360825\\n           Else (feature 40 not in {0.0})\\n            Predict: 31200.0\\n          Else (feature 6 > 628.205015)\\n           If (feature 46 in {1.0})\\n            Predict: 30350.0\\n           Else (feature 46 not in {1.0})\\n            Predict: 31198.61111111111\\n         Else (feature 5 > 0.09165000000000001)\\n          If (feature 47 in {0.0})\\n           If (feature 71 in {0.0})\\n            Predict: 30040.384615384617\\n           Else (feature 71 not in {0.0})\\n            Predict: 30441.666666666668\\n          Else (feature 47 not in {0.0})\\n           If (feature 5 <= 0.10245)\\n            Predict: 30975.0\\n           Else (feature 5 > 0.10245)\\n            Predict: 30000.0\\n        Else (feature 6 > 665.485015)\\n         If (feature 5 <= 0.10525)\\n          If (feature 3 <= 65723.5)\\n           Predict: 31900.0\\n          Else (feature 3 > 65723.5)\\n           If (feature 2 <= 8152.0)\\n            Predict: 31200.0\\n           Else (feature 2 > 8152.0)\\n            Predict: 31654.6875\\n         Else (feature 5 > 0.10525)\\n          If (feature 0 <= 119798.5)\\n           If (feature 42 in {0.0})\\n            Predict: 30954.166666666668\\n           Else (feature 42 not in {0.0})\\n            Predict: 31575.0\\n          Else (feature 0 > 119798.5)\\n           If (feature 5 <= 0.11415)\\n            Predict: 31539.285714285714\\n           Else (feature 5 > 0.11415)\\n            Predict: 31010.0\\n       Else (feature 5 > 0.11610000000000001)\\n        If (feature 5 <= 0.12765)\\n         If (feature 49 in {0.0})\\n          If (feature 1 <= 105103.0)\\n           If (feature 0 <= 32941.0)\\n            Predict: 31025.0\\n           Else (feature 0 > 32941.0)\\n            Predict: 30100.0\\n          Else (feature 1 > 105103.0)\\n           If (feature 75 in {0.0})\\n            Predict: 30054.22077922078\\n           Else (feature 75 not in {0.0})\\n            Predict: 30825.0\\n         Else (feature 49 not in {0.0})\\n          Predict: 31000.0\\n        Else (feature 5 > 0.12765)\\n         If (feature 71 in {0.0})\\n          If (feature 28 in {0.0})\\n           If (feature 27 in {0.0})\\n            Predict: 30002.361751152075\\n           Else (feature 27 not in {0.0})\\n            Predict: 30028.333333333332\\n          Else (feature 28 not in {0.0})\\n           If (feature 1 <= 145967.5)\\n            Predict: 30000.0\\n           Else (feature 1 > 145967.5)\\n            Predict: 30650.0\\n         Else (feature 71 not in {0.0})\\n          If (feature 1 <= 130836.03668277609)\\n           Predict: 30000.0\\n          Else (feature 1 > 130836.03668277609)\\n           Predict: 30825.0\\n      Else (feature 6 > 704.575015)\\n       If (feature 0 <= 77967.5)\\n        If (feature 6 <= 1223.60005)\\n         If (feature 2 <= 5074.0)\\n          If (feature 57 in {0.0})\\n           If (feature 1 <= 144154.0)\\n            Predict: 30182.015590200444\\n           Else (feature 1 > 144154.0)\\n            Predict: 30680.0\\n          Else (feature 57 not in {0.0})\\n           Predict: 31900.0\\n         Else (feature 2 > 5074.0)\\n          If (feature 3 <= 56995.0)\\n           If (feature 21 in {0.0})\\n            Predict: 30528.571428571428\\n           Else (feature 21 not in {0.0})\\n            Predict: 31425.0\\n          Else (feature 3 > 56995.0)\\n           If (feature 0 <= 24131.0)\\n            Predict: 30587.5\\n           Else (feature 0 > 24131.0)\\n            Predict: 30293.547297297297\\n        Else (feature 6 > 1223.60005)\\n         If (feature 3 <= 173831.0)\\n          If (feature 20 in {0.0})\\n           If (feature 5 <= 0.26270000000000004)\\n            Predict: 30991.666666666668\\n           Else (feature 5 > 0.26270000000000004)\\n            Predict: 30275.0\\n          Else (feature 20 not in {0.0})\\n           If (feature 0 <= 39857.0)\\n            Predict: 31500.0\\n           Else (feature 0 > 39857.0)\\n            Predict: 31900.0\\n         Else (feature 3 > 173831.0)\\n          If (feature 0 <= 46047.0)\\n           Predict: 31900.0\\n          Else (feature 0 > 46047.0)\\n           If (feature 0 <= 74940.0)\\n            Predict: 31675.0\\n           Else (feature 0 > 74940.0)\\n            Predict: 31537.5\\n       Else (feature 0 > 77967.5)\\n        If (feature 1 <= 141650.0)\\n         If (feature 6 <= 898.0)\\n          If (feature 5 <= 0.1432)\\n           If (feature 5 <= 0.13095)\\n            Predict: 31740.909090909092\\n           Else (feature 5 > 0.13095)\\n            Predict: 31300.0\\n          Else (feature 5 > 0.1432)\\n           If (feature 61 in {0.0})\\n            Predict: 30142.928496319662\\n           Else (feature 61 not in {0.0})\\n            Predict: 31825.0\\n         Else (feature 6 > 898.0)\\n          If (feature 6 <= 1021.325)\\n           If (feature 5 <= 0.0978)\\n            Predict: 30168.710493046776\\n           Else (feature 5 > 0.0978)\\n            Predict: 30055.763582966225\\n          Else (feature 6 > 1021.325)\\n           If (feature 5 <= 0.13585)\\n            Predict: 31318.42105263158\\n           Else (feature 5 > 0.13585)\\n            Predict: 30112.706611570247\\n        Else (feature 1 > 141650.0)\\n         If (feature 2 <= 9118.0)\\n          If (feature 24 in {0.0})\\n           If (feature 5 <= 0.2272)\\n            Predict: 30075.0\\n           Else (feature 5 > 0.2272)\\n            Predict: 30900.0\\n          Else (feature 24 not in {0.0})\\n           If (feature 0 <= 92964.60149999999)\\n            Predict: 30000.0\\n           Else (feature 0 > 92964.60149999999)\\n            Predict: 31400.0\\n         Else (feature 2 > 9118.0)\\n          If (feature 5 <= 0.06645)\\n           Predict: 30000.0\\n          Else (feature 5 > 0.06645)\\n           If (feature 5 <= 0.1432)\\n            Predict: 30728.658536585364\\n           Else (feature 5 > 0.1432)\\n            Predict: 30306.5\\n     Else (feature 4 > 31950.0)\\n      If (feature 6 <= 764.01001)\\n       If (feature 5 <= 0.11415)\\n        If (feature 6 <= 704.575015)\\n         If (feature 5 <= 0.07525)\\n          If (feature 6 <= 665.485015)\\n           If (feature 5 <= 0.060950000000000004)\\n            Predict: 33875.0\\n           Else (feature 5 > 0.060950000000000004)\\n            Predict: 32185.714285714286\\n          Else (feature 6 > 665.485015)\\n           If (feature 0 <= 24131.0)\\n            Predict: 34000.0\\n           Else (feature 0 > 24131.0)\\n            Predict: 34964.51612903226\\n         Else (feature 5 > 0.07525)\\n          If (feature 5 <= 0.09165000000000001)\\n           If (feature 6 <= 665.485015)\\n            Predict: 32033.333333333332\\n           Else (feature 6 > 665.485015)\\n            Predict: 33438.125\\n          Else (feature 5 > 0.09165000000000001)\\n           If (feature 36 in {0.0})\\n            Predict: 32069.84126984127\\n           Else (feature 36 not in {0.0})\\n            Predict: 32700.0\\n        Else (feature 6 > 704.575015)\\n         If (feature 5 <= 0.10245)\\n          If (feature 54 in {1.0})\\n           Predict: 33475.0\\n          Else (feature 54 not in {1.0})\\n           If (feature 0 <= 71040.0)\\n            Predict: 34790.0\\n           Else (feature 0 > 71040.0)\\n            Predict: 34964.0306122449\\n         Else (feature 5 > 0.10245)\\n          If (feature 0 <= 60004.0)\\n           If (feature 2 <= 3387.5)\\n            Predict: 34733.333333333336\\n           Else (feature 2 > 3387.5)\\n            Predict: 34096.25\\n          Else (feature 0 > 60004.0)\\n           If (feature 48 in {1.0})\\n            Predict: 32625.0\\n           Else (feature 48 not in {1.0})\\n            Predict: 34712.37373737374\\n       Else (feature 5 > 0.11415)\\n        If (feature 5 <= 0.13095)\\n         If (feature 32 in {0.0})\\n          If (feature 5 <= 0.1202)\\n           If (feature 6 <= 704.575015)\\n            Predict: 32000.0\\n           Else (feature 6 > 704.575015)\\n            Predict: 32753.191489361703\\n          Else (feature 5 > 0.1202)\\n           If (feature 1 <= 105103.0)\\n            Predict: 32730.555555555555\\n           Else (feature 1 > 105103.0)\\n            Predict: 32325.862068965518\\n         Else (feature 32 not in {0.0})\\n          If (feature 1 <= 105103.0)\\n           Predict: 32400.0\\n          Else (feature 1 > 105103.0)\\n           If (feature 0 <= 69999.5)\\n            Predict: 34000.0\\n           Else (feature 0 > 69999.5)\\n            Predict: 34025.0\\n        Else (feature 5 > 0.13095)\\n         If (feature 5 <= 0.13985)\\n          If (feature 2 <= 20057.0)\\n           If (feature 16 in {0.0})\\n            Predict: 32249.468085106382\\n           Else (feature 16 not in {0.0})\\n            Predict: 33000.0\\n          Else (feature 2 > 20057.0)\\n           If (feature 26 in {0.0})\\n            Predict: 32000.0\\n           Else (feature 26 not in {0.0})\\n            Predict: 32250.0\\n         Else (feature 5 > 0.13985)\\n          If (feature 52 in {0.0})\\n           If (feature 39 in {0.0})\\n            Predict: 32028.174603174604\\n           Else (feature 39 not in {0.0})\\n            Predict: 32375.0\\n          Else (feature 52 not in {0.0})\\n           Predict: 32625.0\\n      Else (feature 6 > 764.01001)\\n       If (feature 0 <= 80002.0)\\n        If (feature 6 <= 1223.60005)\\n         If (feature 5 <= 0.15275)\\n          If (feature 6 <= 898.0)\\n           If (feature 5 <= 0.1432)\\n            Predict: 34884.66494845361\\n           Else (feature 5 > 0.1432)\\n            Predict: 34309.87654320987\\n          Else (feature 6 > 898.0)\\n           If (feature 6 <= 1021.325)\\n            Predict: 32154.166666666668\\n           Else (feature 6 > 1021.325)\\n            Predict: 34203.91089108911\\n         Else (feature 5 > 0.15275)\\n          If (feature 6 <= 819.519985)\\n           If (feature 47 in {0.0})\\n            Predict: 32261.337209302324\\n           Else (feature 47 not in {0.0})\\n            Predict: 35000.0\\n          Else (feature 6 > 819.519985)\\n           If (feature 6 <= 1021.325)\\n            Predict: 34157.64462809917\\n           Else (feature 6 > 1021.325)\\n            Predict: 33579.44078947369\\n        Else (feature 6 > 1223.60005)\\n         If (feature 5 <= 0.19475)\\n          If (feature 5 <= 0.1835)\\n           If (feature 45 in {1.0})\\n            Predict: 34512.5\\n           Else (feature 45 not in {1.0})\\n            Predict: 34960.625\\n          Else (feature 5 > 0.1835)\\n           If (feature 2 <= 5074.0)\\n            Predict: 34250.0\\n           Else (feature 2 > 5074.0)\\n            Predict: 34815.47619047619\\n         Else (feature 5 > 0.19475)\\n          If (feature 41 in {1.0})\\n           Predict: 32000.0\\n          Else (feature 41 not in {1.0})\\n           If (feature 3 <= 25881.5)\\n            Predict: 33677.5\\n           Else (feature 3 > 25881.5)\\n            Predict: 34513.380281690144\\n       Else (feature 0 > 80002.0)\\n        If (feature 6 <= 1223.60005)\\n         If (feature 5 <= 0.11415)\\n          If (feature 6 <= 1021.325)\\n           If (feature 5 <= 0.0978)\\n            Predict: 32127.843601895736\\n           Else (feature 5 > 0.0978)\\n            Predict: 35000.0\\n          Else (feature 6 > 1021.325)\\n           If (feature 5 <= 0.09165000000000001)\\n            Predict: 34835.46163069544\\n           Else (feature 5 > 0.09165000000000001)\\n            Predict: 34425.81475128645\\n         Else (feature 5 > 0.11415)\\n          If (feature 5 <= 0.14984999999999998)\\n           If (feature 6 <= 898.0)\\n            Predict: 34889.11651728553\\n           Else (feature 6 > 898.0)\\n            Predict: 34547.83288650581\\n          Else (feature 5 > 0.14984999999999998)\\n           If (feature 6 <= 819.519985)\\n            Predict: 32263.103448275862\\n           Else (feature 6 > 819.519985)\\n            Predict: 34627.87865367582\\n        Else (feature 6 > 1223.60005)\\n         If (feature 5 <= 0.20525)\\n          If (feature 5 <= 0.1835)\\n           If (feature 1 <= 145250.0)\\n            Predict: 34993.55828220859\\n           Else (feature 1 > 145250.0)\\n            Predict: 34888.88888888889\\n          Else (feature 5 > 0.1835)\\n           If (feature 40 in {1.0})\\n            Predict: 34212.5\\n           Else (feature 40 not in {1.0})\\n            Predict: 34937.5\\n         Else (feature 5 > 0.20525)\\n          If (feature 74 in {1.0})\\n           If (feature 2 <= 5074.0)\\n            Predict: 31987.5\\n           Else (feature 2 > 5074.0)\\n            Predict: 35000.0\\n          Else (feature 74 not in {1.0})\\n           If (feature 49 in {1.0})\\n            Predict: 32250.0\\n           Else (feature 49 not in {1.0})\\n            Predict: 34793.12865497076\\n    Else (feature 4 > 35100.0)\\n     If (feature 4 <= 39975.0)\\n      If (feature 6 <= 1223.60005)\\n       If (feature 6 <= 819.519985)\\n        If (feature 5 <= 0.0978)\\n         If (feature 6 <= 764.01001)\\n          If (feature 5 <= 0.07525)\\n           If (feature 65 in {1.0})\\n            Predict: 36250.0\\n           Else (feature 65 not in {1.0})\\n            Predict: 37410.0\\n          Else (feature 5 > 0.07525)\\n           If (feature 5 <= 0.0854)\\n            Predict: 36425.0\\n           Else (feature 5 > 0.0854)\\n            Predict: 35998.68421052631\\n         Else (feature 6 > 764.01001)\\n          If (feature 0 <= 65004.9395)\\n           If (feature 0 <= 32941.0)\\n            Predict: 37900.0\\n           Else (feature 0 > 32941.0)\\n            Predict: 37000.0\\n          Else (feature 0 > 65004.9395)\\n           If (feature 15 in {1.0})\\n            Predict: 37535.0\\n           Else (feature 15 not in {1.0})\\n            Predict: 38238.28125\\n        Else (feature 5 > 0.0978)\\n         If (feature 5 <= 0.11415)\\n          If (feature 6 <= 764.01001)\\n           If (feature 8 in {1.0})\\n            Predict: 35540.0\\n           Else (feature 8 not in {1.0})\\n            Predict: 35957.8125\\n          Else (feature 6 > 764.01001)\\n           If (feature 0 <= 174000.0)\\n            Predict: 36424.21052631579\\n           Else (feature 0 > 174000.0)\\n            Predict: 37014.705882352944\\n         Else (feature 5 > 0.11415)\\n          If (feature 5 <= 0.13095)\\n           If (feature 20 in {0.0})\\n            Predict: 35937.21590909091\\n           Else (feature 20 not in {0.0})\\n            Predict: 36466.666666666664\\n          Else (feature 5 > 0.13095)\\n           If (feature 1 <= 130836.03668277609)\\n            Predict: 35266.666666666664\\n           Else (feature 1 > 130836.03668277609)\\n            Predict: 35500.0\\n       Else (feature 6 > 819.519985)\\n        If (feature 6 <= 1021.325)\\n         If (feature 5 <= 0.12765)\\n          If (feature 5 <= 0.1202)\\n           If (feature 0 <= 65004.9395)\\n            Predict: 38192.857142857145\\n           Else (feature 0 > 65004.9395)\\n            Predict: 38904.545454545456\\n          Else (feature 5 > 0.1202)\\n           If (feature 0 <= 174000.0)\\n            Predict: 37705.769230769234\\n           Else (feature 0 > 174000.0)\\n            Predict: 38530.555555555555\\n         Else (feature 5 > 0.12765)\\n          If (feature 6 <= 898.0)\\n           If (feature 5 <= 0.13985)\\n            Predict: 37248.73417721519\\n           Else (feature 5 > 0.13985)\\n            Predict: 36178.16901408451\\n          Else (feature 6 > 898.0)\\n           If (feature 5 <= 0.16265)\\n            Predict: 38635.9375\\n           Else (feature 5 > 0.16265)\\n            Predict: 36830.660377358494\\n        Else (feature 6 > 1021.325)\\n         If (feature 5 <= 0.0978)\\n          If (feature 0 <= 35999.5)\\n           If (feature 31 in {1.0})\\n            Predict: 36000.0\\n           Else (feature 31 not in {1.0})\\n            Predict: 38325.0\\n          Else (feature 0 > 35999.5)\\n           If (feature 38 in {1.0})\\n            Predict: 35675.0\\n           Else (feature 38 not in {1.0})\\n            Predict: 36831.871727748694\\n         Else (feature 5 > 0.0978)\\n          If (feature 5 <= 0.13985)\\n           If (feature 5 <= 0.13585)\\n            Predict: 36070.2479338843\\n           Else (feature 5 > 0.13585)\\n            Predict: 35495.0\\n          Else (feature 5 > 0.13985)\\n           If (feature 5 <= 0.20525)\\n            Predict: 38962.5\\n           Else (feature 5 > 0.20525)\\n            Predict: 36551.666666666664\\n      Else (feature 6 > 1223.60005)\\n       If (feature 5 <= 0.12765)\\n        If (feature 5 <= 0.0978)\\n         If (feature 5 <= 0.09165000000000001)\\n          If (feature 16 in {0.0})\\n           If (feature 2 <= 6233.5)\\n            Predict: 39625.0\\n           Else (feature 2 > 6233.5)\\n            Predict: 39114.28571428572\\n          Else (feature 16 not in {0.0})\\n           If (feature 0 <= 101976.0)\\n            Predict: 39600.0\\n           Else (feature 0 > 101976.0)\\n            Predict: 39700.0\\n         Else (feature 5 > 0.09165000000000001)\\n          If (feature 0 <= 50350.0)\\n           Predict: 39625.0\\n          Else (feature 0 > 50350.0)\\n           Predict: 39900.0\\n        Else (feature 5 > 0.0978)\\n         If (feature 5 <= 0.11610000000000001)\\n          If (feature 2 <= 18285.5)\\n           If (feature 16 in {0.0})\\n            Predict: 38708.82352941176\\n           Else (feature 16 not in {0.0})\\n            Predict: 39762.5\\n          Else (feature 2 > 18285.5)\\n           If (feature 16 in {0.0})\\n            Predict: 38115.90909090909\\n           Else (feature 16 not in {0.0})\\n            Predict: 39000.0\\n         Else (feature 5 > 0.11610000000000001)\\n          If (feature 2 <= 27709.0)\\n           If (feature 3 <= 65723.5)\\n            Predict: 38462.5\\n           Else (feature 3 > 65723.5)\\n            Predict: 37506.25\\n          Else (feature 2 > 27709.0)\\n           If (feature 5 <= 0.1202)\\n            Predict: 38285.0\\n           Else (feature 5 > 0.1202)\\n            Predict: 39008.333333333336\\n       Else (feature 5 > 0.12765)\\n        If (feature 15 in {0.0})\\n         If (feature 58 in {0.0})\\n          If (feature 45 in {0.0})\\n           If (feature 5 <= 0.13585)\\n            Predict: 37485.0\\n           Else (feature 5 > 0.13585)\\n            Predict: 36711.59420289855\\n          Else (feature 45 not in {0.0})\\n           Predict: 39825.0\\n         Else (feature 58 not in {0.0})\\n          Predict: 39950.0\\n        Else (feature 15 not in {0.0})\\n         If (feature 3 <= 32537.5)\\n          If (feature 0 <= 35999.5)\\n           Predict: 36000.0\\n          Else (feature 0 > 35999.5)\\n           Predict: 35225.0\\n         Else (feature 3 > 32537.5)\\n          If (feature 2 <= 16451.0)\\n           If (feature 0 <= 129844.0)\\n            Predict: 37725.0\\n           Else (feature 0 > 129844.0)\\n            Predict: 38950.0\\n          Else (feature 2 > 16451.0)\\n           If (feature 0 <= 29770.0)\\n            Predict: 39000.0\\n           Else (feature 0 > 29770.0)\\n            Predict: 39562.5\\n     Else (feature 4 > 39975.0)\\n      Predict: 40000.0\\n'"
     ]
    }
   ],
   "source": [
    "rf_model.toDebugString"
   ]
  }
 ],
 "metadata": {
  "application/vnd.databricks.v1+notebook": {
   "dashboards": [],
   "environmentMetadata": null,
   "language": "python",
   "notebookMetadata": {
    "pythonIndentUnit": 4
   },
   "notebookName": "Decision Tree",
   "widgets": {}
  },
  "kernelspec": {
   "display_name": "",
   "name": ""
  },
  "language_info": {
   "name": ""
  }
 },
 "nbformat": 4,
 "nbformat_minor": 4
}
