{
  "cells": [
    {
      "cell_type": "code",
      "execution_count": null,
      "metadata": {
        "application/vnd.databricks.v1+cell": {
          "cellMetadata": {
            "byteLimit": 2048000,
            "rowLimit": 10000
          },
          "inputWidgets": {},
          "nuid": "064f0d80-eedb-436f-ae6f-5a31c913e4aa",
          "showTitle": false,
          "tableResultSettingsMap": {},
          "title": ""
        },
        "id": "WSjzjYuUkufL"
      },
      "outputs": [],
      "source": [
        "from pyspark.sql.functions import col, trim, when\n",
        "from pyspark.ml.feature import OneHotEncoder, StringIndexer, VectorAssembler\n",
        "from pyspark.ml import Pipeline\n",
        "from pyspark.ml.classification import LogisticRegression\n",
        "from pyspark.ml.evaluation import RegressionEvaluator\n",
        "from pyspark.ml.evaluation import BinaryClassificationEvaluator\n",
        "from pyspark.sql import SparkSession\n",
        "from pyspark.ml.regression import RandomForestRegressor\n",
        "from pyspark.ml.feature import Imputer, StringIndexer, OneHotEncoder, VectorAssembler"
      ]
    },
    {
      "cell_type": "code",
      "source": [
        "spark = SparkSession.builder.appName(\"Regression\").config(\"spark.driver.memory\", \"8g\").config(\"spark.executor.memory\", \"16g\").getOrCreate()"
      ],
      "metadata": {
        "id": "rz2CsbvelD06"
      },
      "execution_count": null,
      "outputs": []
    },
    {
      "cell_type": "code",
      "execution_count": null,
      "metadata": {
        "application/vnd.databricks.v1+cell": {
          "cellMetadata": {
            "byteLimit": 2048000,
            "rowLimit": 10000
          },
          "inputWidgets": {},
          "nuid": "b24a9664-c8eb-4cac-afc4-1cfa6cea7657",
          "showTitle": false,
          "tableResultSettingsMap": {},
          "title": ""
        },
        "id": "oQb7rhd_kufL"
      },
      "outputs": [],
      "source": [
        "data = spark.read.csv(\n",
        "    \"/home/chun/Downloads/cs-267/project/join_df.csv\",\n",
        "    header=True,       # Set to True if the CSV has a header\n",
        "    inferSchema=True,  # Prevent automatic type inference if fields are irregular\n",
        "    multiLine=True,     # Support multi-line fields\n",
        "    quote='\"',          # Handle quoted fields properly\n",
        "    escape='\"',         # Escape quotes inside quoted fields\n",
        "    sep=\",\"             # Specify comma as the delimiter\n",
        ").drop(\"loan_amount\").drop(\"grade\")"
      ]
    },
    {
      "cell_type": "code",
      "execution_count": null,
      "metadata": {
        "application/vnd.databricks.v1+cell": {
          "cellMetadata": {
            "byteLimit": 2048000,
            "rowLimit": 10000
          },
          "inputWidgets": {},
          "nuid": "d5058052-a7f5-4897-998c-fdf207eaf7cd",
          "showTitle": false,
          "tableResultSettingsMap": {},
          "title": ""
        },
        "colab": {
          "base_uri": "https://localhost:8080/"
        },
        "id": "Nf3mfJXwkufL",
        "outputId": "2fdc3dd3-830c-49a6-e2d0-3987b31596c4"
      },
      "outputs": [
        {
          "output_type": "stream",
          "name": "stdout",
          "text": [
            "root\n",
            " |-- emp_title: string (nullable = true)\n",
            " |-- emp_length: string (nullable = true)\n",
            " |-- home_ownership: string (nullable = true)\n",
            " |-- annual_inc: double (nullable = true)\n",
            " |-- verification_status: string (nullable = true)\n",
            " |-- addr_state: string (nullable = true)\n",
            " |-- avg_cur_bal: integer (nullable = true)\n",
            " |-- Tot_cur_bal: integer (nullable = true)\n",
            " |-- loan_status: string (nullable = true)\n",
            " |-- loan_amount: integer (nullable = true)\n",
            " |-- state: string (nullable = true)\n",
            " |-- funded_amount: integer (nullable = true)\n",
            " |-- term: string (nullable = true)\n",
            " |-- int_rate: double (nullable = true)\n",
            " |-- installment: double (nullable = true)\n",
            " |-- grade: string (nullable = true)\n",
            " |-- pymnt_plan: boolean (nullable = true)\n",
            " |-- type: string (nullable = true)\n",
            " |-- purpose: string (nullable = true)\n",
            " |-- description: string (nullable = true)\n",
            "\n"
          ]
        }
      ],
      "source": [
        "data.printSchema()"
      ]
    },
    {
      "cell_type": "code",
      "execution_count": null,
      "metadata": {
        "application/vnd.databricks.v1+cell": {
          "cellMetadata": {
            "byteLimit": 2048000,
            "rowLimit": 10000
          },
          "inputWidgets": {},
          "nuid": "4234c2d1-34f4-4515-acef-b0181c84ba61",
          "showTitle": false,
          "tableResultSettingsMap": {},
          "title": ""
        },
        "colab": {
          "base_uri": "https://localhost:8080/"
        },
        "id": "95dMZAkDkufL",
        "outputId": "a9cd4734-eced-4bff-e946-decc86dbe9a7"
      },
      "outputs": [
        {
          "output_type": "execute_result",
          "data": {
            "text/plain": [
              "['emp_title',\n",
              " 'emp_length',\n",
              " 'home_ownership',\n",
              " 'verification_status',\n",
              " 'addr_state',\n",
              " 'loan_status',\n",
              " 'state',\n",
              " 'term',\n",
              " 'grade',\n",
              " 'type',\n",
              " 'purpose',\n",
              " 'description']"
            ]
          },
          "metadata": {},
          "execution_count": 40
        }
      ],
      "source": [
        "categorical_variables  = [col for col, dtype in join_df.dtypes if dtype == 'string']\n",
        "categorical_variables"
      ]
    },
    {
      "cell_type": "code",
      "execution_count": null,
      "metadata": {
        "application/vnd.databricks.v1+cell": {
          "cellMetadata": {},
          "inputWidgets": {},
          "nuid": "96a1b84f-88f3-49ca-a993-856d48939432",
          "showTitle": false,
          "tableResultSettingsMap": {},
          "title": ""
        },
        "id": "IOZ6M2jSkufL",
        "outputId": "0f8f4233-d17e-41ce-a94b-89c61abf2062",
        "colab": {
          "base_uri": "https://localhost:8080/"
        }
      },
      "outputs": [
        {
          "output_type": "stream",
          "name": "stdout",
          "text": [
            "<built-in function len>\n"
          ]
        }
      ],
      "source": [
        "# Fill missing values\n",
        "imputer = Imputer(inputCols=[\"annual_inc\",  \"avg_cur_bal\", \"Tot_cur_bal\", \"int_rate\", \"installment\"],\n",
        "                  outputCols=[\"annual_inc\",  \"avg_cur_bal\", \"Tot_cur_bal\",  \"int_rate\", \"installment\"])\n",
        "data = imputer.fit(data).transform(data)\n",
        "\n",
        "# StringIndexer for categorical variables\n",
        "indexers = [\n",
        "    StringIndexer(inputCol=col, outputCol=f\"{col}_index\", handleInvalid=\"skip\").fit(data)\n",
        "    for col in [ \"home_ownership\", \"verification_status\", \"state\",  \"purpose\"]\n",
        "]\n",
        "for indexer in indexers:\n",
        "    data = indexer.transform(data)\n",
        "\n",
        "# OneHotEncoder for indexed columns\n",
        "encoder = OneHotEncoder(inputCols=[f\"{col}_index\" for col in [\"home_ownership\", \"verification_status\", \"state\",  \"purpose\"]],\n",
        "                        outputCols=[f\"{col}_vec\" for col in [\"home_ownership\", \"verification_status\", \"state\",  \"purpose\"]])\n",
        "data = encoder.fit(data).transform(data)\n",
        "print(len(data.columns))\n",
        "# Assemble features\n",
        "assembler = VectorAssembler(\n",
        "    inputCols=[\"annual_inc\", \"avg_cur_bal\", \"Tot_cur_bal\", \"int_rate\", \"installment\"] +\n",
        "              [f\"{col}_vec\" for col in [\"home_ownership\", \"verification_status\", \"state\",  \"purpose\"]],\n",
        "    outputCol=\"features\", handleInvalid=\"skip\"\n",
        ")\n",
        "data = assembler.transform(data)\n",
        "\n",
        "# Select final dataset for training and testing\n",
        "data = data.select(\"features\", col(\"funded_amount\").alias(\"label\"))"
      ]
    },
    {
      "cell_type": "code",
      "source": [
        "# Split data into training and testing sets\n",
        "train_data, test_data = data.randomSplit([0.7, 0.3])\n",
        "\n",
        "# Define Random Forest Regressor\n",
        "rf = RandomForestRegressor(featuresCol=\"features\", labelCol=\"label\", numTrees=10, maxDepth=10)\n",
        "\n",
        "# Train the model\n",
        "rf_model = rf.fit(train_data)\n",
        "\n",
        "# Make predictions\n",
        "predictions = rf_model.transform(test_data)\n",
        "\n",
        "# Evaluate model performance\n",
        "evaluator = RegressionEvaluator(labelCol=\"label\", predictionCol=\"prediction\", metricName=\"rmse\")\n",
        "rmse = evaluator.evaluate(predictions)\n",
        "print(f\"Root Mean Squared Error (RMSE): {rmse}\")\n",
        "\n",
        "# Evaluate Mean Absolute Error (MAE)\n",
        "mae_evaluator = RegressionEvaluator(labelCol=\"label\", predictionCol=\"prediction\", metricName=\"mae\")\n",
        "mae = mae_evaluator.evaluate(predictions)\n",
        "print(f\"Mean Absolute Error (MAE): {mae}\")\n",
        "\n",
        "# Save the model\n",
        "import time\n",
        "rf_model.save(f\"random_forest_model_{time.time()}\")"
      ],
      "metadata": {
        "colab": {
          "base_uri": "https://localhost:8080/"
        },
        "id": "_npMiCXglIO2",
        "outputId": "2be61c1a-33fa-4f46-e653-cab7f68e273d"
      },
      "execution_count": null,
      "outputs": [
        {
          "output_type": "stream",
          "name": "stderr",
          "text": [
            "24/12/05 15:22:30 WARN DAGScheduler: Broadcasting large task binary with size 1271.8 KiB\n"
          ]
        },
        {
          "output_type": "stream",
          "name": "stdout",
          "text": [
            "Root Mean Squared Error (RMSE): 3019.234473675644\n",
            "Mean Absolute Error (MAE): 2249.966856975659\n"
          ]
        }
      ]
    },
    {
      "cell_type": "code",
      "source": [],
      "metadata": {
        "id": "nfMjzt7ElkIh"
      },
      "execution_count": null,
      "outputs": []
    }
  ],
  "metadata": {
    "application/vnd.databricks.v1+notebook": {
      "dashboards": [],
      "environmentMetadata": null,
      "language": "python",
      "notebookMetadata": {
        "pythonIndentUnit": 4
      },
      "notebookName": "Random Forest",
      "widgets": {}
    },
    "colab": {
      "provenance": []
    },
    "language_info": {
      "name": "python"
    },
    "kernelspec": {
      "name": "python3",
      "display_name": "Python 3"
    }
  },
  "nbformat": 4,
  "nbformat_minor": 0
}